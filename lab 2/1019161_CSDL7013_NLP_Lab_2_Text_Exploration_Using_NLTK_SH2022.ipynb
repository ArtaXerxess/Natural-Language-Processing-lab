{
  "nbformat": 4,
  "nbformat_minor": 0,
  "metadata": {
    "colab": {
      "name": "1019161_CSDL7013_NLP_Lab_2_Text_Exploration_Using_NLTK_SH2022.ipynb",
      "provenance": []
    },
    "kernelspec": {
      "name": "python3",
      "display_name": "Python 3"
    },
    "language_info": {
      "name": "python"
    }
  },
  "cells": [
    {
      "cell_type": "markdown",
      "source": [
        "# CSDL7013 Natural Language Processing Lab 2\n",
        "\n",
        "* NOTE: Prepend your Roll Number to the name of this file"
      ],
      "metadata": {
        "id": "vKeGVu2k8Hmt"
      }
    },
    {
      "cell_type": "markdown",
      "source": [
        "## Text Exploration Using NLTK\n",
        "\n",
        "1. **Title:** Text Exploration Using NLTK\n",
        "\n",
        "2. **Objective/Aim:** To  illustrate various text exploration techniques using NLTK\n",
        "\n",
        "3. **Due Date:** Saturday July 30, 2022 \n",
        "\n",
        "\n",
        "\n",
        "\n"
      ],
      "metadata": {
        "id": "5xL99s7p8OK4"
      }
    },
    {
      "cell_type": "markdown",
      "source": [
        "### Name : Harshvardhan Singh\n",
        "\n",
        "### Roll Number : 1019161"
      ],
      "metadata": {
        "id": "u4CzHC3T82GQ"
      }
    },
    {
      "cell_type": "markdown",
      "source": [
        "\n",
        "Q. 1. List all available books from gutenberg and print few words, sentences, from some of them.\n",
        "\n",
        "[*02 Marks*]\n"
      ],
      "metadata": {
        "id": "ucoEIFm29CMg"
      }
    },
    {
      "cell_type": "code",
      "execution_count": null,
      "metadata": {
        "id": "uaRH8H-z79M8"
      },
      "outputs": [],
      "source": [
        "# Uncomment the following lines\n",
        "\n",
        "import nltk\n",
        "from nltk.corpus import gutenberg\n",
        "from nltk.probability import FreqDist\n",
        "import matplotlib.pyplot as plt"
      ]
    },
    {
      "cell_type": "code",
      "source": [
        "nltk.download('gutenberg')"
      ],
      "metadata": {
        "id": "JGXtGFqJ9wYa",
        "colab": {
          "base_uri": "https://localhost:8080/"
        },
        "outputId": "91fd2a47-3e85-47e1-a9f0-df646286b14e"
      },
      "execution_count": null,
      "outputs": [
        {
          "output_type": "stream",
          "name": "stderr",
          "text": [
            "[nltk_data] Downloading package gutenberg to /root/nltk_data...\n",
            "[nltk_data]   Unzipping corpora/gutenberg.zip.\n"
          ]
        },
        {
          "output_type": "execute_result",
          "data": {
            "text/plain": [
              "True"
            ]
          },
          "metadata": {},
          "execution_count": 2
        }
      ]
    },
    {
      "cell_type": "code",
      "source": [
        "# This code is for your reference. Kindly use it as a guidance to solution to question 1.\n",
        "print(\"::Gutenberg Books::\")\n",
        "for id in nltk.corpus.gutenberg.fileids():\n",
        "  print(id)"
      ],
      "metadata": {
        "id": "-hKBDhn1-cPa",
        "colab": {
          "base_uri": "https://localhost:8080/"
        },
        "outputId": "154f108a-e8bb-4a3f-fcd7-e5563960b22c"
      },
      "execution_count": null,
      "outputs": [
        {
          "output_type": "stream",
          "name": "stdout",
          "text": [
            "::Gutenberg Books::\n",
            "austen-emma.txt\n",
            "austen-persuasion.txt\n",
            "austen-sense.txt\n",
            "bible-kjv.txt\n",
            "blake-poems.txt\n",
            "bryant-stories.txt\n",
            "burgess-busterbrown.txt\n",
            "carroll-alice.txt\n",
            "chesterton-ball.txt\n",
            "chesterton-brown.txt\n",
            "chesterton-thursday.txt\n",
            "edgeworth-parents.txt\n",
            "melville-moby_dick.txt\n",
            "milton-paradise.txt\n",
            "shakespeare-caesar.txt\n",
            "shakespeare-hamlet.txt\n",
            "shakespeare-macbeth.txt\n",
            "whitman-leaves.txt\n"
          ]
        }
      ]
    },
    {
      "cell_type": "code",
      "source": [
        "# Solution to Question 1\n",
        "# Printing words and sentences\n",
        "bible = nltk.Text(nltk.corpus.gutenberg.words('bible-kjv.txt'))\n",
        "bible.concordance(\"Melchizedek\")\n"
      ],
      "metadata": {
        "colab": {
          "base_uri": "https://localhost:8080/"
        },
        "id": "q-nCqjK94-16",
        "outputId": "920412ea-ab90-4a74-90d0-5d981254801c"
      },
      "execution_count": null,
      "outputs": [
        {
          "output_type": "stream",
          "name": "stdout",
          "text": [
            "Displaying 2 of 2 matches:\n",
            "s the king ' s dale . 14 : 18 And Melchizedek king of Salem brought forth bread\n",
            "riest for ever after the order of Melchizedek . 110 : 5 The Lord at thy right h\n"
          ]
        }
      ]
    },
    {
      "cell_type": "code",
      "source": [
        "# printing sentences\n",
        "gutenberg.words('shakespeare-macbeth.txt')"
      ],
      "metadata": {
        "colab": {
          "base_uri": "https://localhost:8080/"
        },
        "id": "fJRUL6e57d7k",
        "outputId": "7651febd-3ba1-4ec0-a6c0-b6ed43c271c1"
      },
      "execution_count": null,
      "outputs": [
        {
          "output_type": "execute_result",
          "data": {
            "text/plain": [
              "['[', 'The', 'Tragedie', 'of', 'Macbeth', 'by', ...]"
            ]
          },
          "metadata": {},
          "execution_count": 19
        }
      ]
    },
    {
      "cell_type": "markdown",
      "source": [
        "\n",
        "Q. 2. Print frequency distribution of letters and words in any of the gutenberg books.\n",
        "\n",
        "[*02 Marks*]\n"
      ],
      "metadata": {
        "id": "Ee-4QDTN-9wJ"
      }
    },
    {
      "cell_type": "code",
      "source": [
        "# Frequence analysis code for your reference.\n",
        "\n",
        "# get raw text from \"Sense and Sensibility\" by Jane Austen or try any other book\n",
        "raw = gutenberg.raw(\"bible-kjv.txt\")\n",
        "fd_letters = FreqDist(raw)"
      ],
      "metadata": {
        "id": "BEekZiCk_Pbs"
      },
      "execution_count": null,
      "outputs": []
    },
    {
      "cell_type": "code",
      "source": [
        "# frequency plot for letters from SAS\n",
        "\n",
        "plt.figure(figsize=(20, 5)) \n",
        "fd_letters.plot(100)\n",
        "plt.show()"
      ],
      "metadata": {
        "id": "vs9Lw0ge_iJc",
        "colab": {
          "base_uri": "https://localhost:8080/",
          "height": 329
        },
        "outputId": "e418f7ac-5582-4d09-8cc6-ab618d359f24"
      },
      "execution_count": null,
      "outputs": [
        {
          "output_type": "display_data",
          "data": {
            "text/plain": [
              "<Figure size 1440x360 with 1 Axes>"
            ],
            "image/png": "[encoded data removed]"
          },
          "metadata": {
            "needs_background": "light"
          }
        }
      ]
    },
    {
      "cell_type": "code",
      "source": [
        "words = gutenberg.words(\"bible-kjv.txt\")\n",
        "fd_words = FreqDist(words)"
      ],
      "metadata": {
        "id": "iW31V2TC_xjm"
      },
      "execution_count": null,
      "outputs": []
    },
    {
      "cell_type": "code",
      "source": [
        "# frequency plot for words from SAS :: Check other books too\n",
        "\n",
        "plt.figure(figsize=(20, 5)) \n",
        "fd_words.plot(50)\n",
        "plt.show()"
      ],
      "metadata": {
        "id": "q8T2W5xU__fl",
        "colab": {
          "base_uri": "https://localhost:8080/",
          "height": 350
        },
        "outputId": "63d8fb16-9696-46bb-fda8-1094ef135dc4"
      },
      "execution_count": null,
      "outputs": [
        {
          "output_type": "display_data",
          "data": {
            "text/plain": [
              "<Figure size 1440x360 with 1 Axes>"
            ],
            "image/png": "[encoded data removed]"
          },
          "metadata": {
            "needs_background": "light"
          }
        }
      ]
    },
    {
      "cell_type": "markdown",
      "source": [
        "\n",
        "Q. 3. Illustrate collocations, long words and concordance views.\n",
        "\n",
        "[*02 Marks*]\n"
      ],
      "metadata": {
        "id": "muHIAMAaA91T"
      }
    },
    {
      "cell_type": "markdown",
      "source": [
        "** 3.1 Collocations **\n",
        "\n",
        "These are interesting word pairs, usually formed by the most common bigrams.  Bigrams are collections of word pairs that occur together in the text. "
      ],
      "metadata": {
        "id": "O1Igx2RHBHej"
      }
    },
    {
      "cell_type": "markdown",
      "metadata": {
        "id": "RiKXfoGePiYw"
      },
      "source": [
        "** 3.2 Long words **\n",
        "\n",
        "Sometimes looking at the long words in a text can be revealing.  Let's try it on sas."
      ]
    },
    {
      "cell_type": "code",
      "metadata": {
        "id": "pHb677HkPsEN",
        "colab": {
          "base_uri": "https://localhost:8080/"
        },
        "outputId": "df37d74f-9b44-4251-8ab8-566e36b145b9"
      },
      "source": [
        "# let's look at long words in the text, check different sizes, different books, any other interesting things.\n",
        "\n",
        "longWords = [w for w in set(words) if len(w) > 13]\n",
        "longWords[:15]"
      ],
      "execution_count": null,
      "outputs": [
        {
          "output_type": "execute_result",
          "data": {
            "text/plain": [
              "['stumblingblocks',\n",
              " 'communications',\n",
              " 'transgressions',\n",
              " 'righteousnesses',\n",
              " 'fellowcitizens',\n",
              " 'Tiglathpileser',\n",
              " 'affectionately',\n",
              " 'Mahershalalhashbaz',\n",
              " 'Bethdiblathaim',\n",
              " 'bloodguiltiness',\n",
              " 'unrighteousness',\n",
              " 'covenantbreakers',\n",
              " 'stumblingblock',\n",
              " 'Berodachbaladan',\n",
              " 'stumblingstone']"
            ]
          },
          "metadata": {},
          "execution_count": 69
        }
      ]
    },
    {
      "cell_type": "markdown",
      "metadata": {
        "id": "gd4xDzA_PXY5"
      },
      "source": [
        "** 3.3 Concordance Views **\n",
        "\n",
        "Concordance views, also called Keywords in Context (KWIC), show the specifed word with the words that surround it in text.  These views can be helpful in understaning how the words are being used in the text.\n",
        "\n",
        "\n"
      ]
    },
    {
      "cell_type": "code",
      "metadata": {
        "id": "bXbTWzdHPcHo",
        "colab": {
          "base_uri": "https://localhost:8080/"
        },
        "outputId": "de04d3fe-b940-4e1c-8ba1-4f091da9b6eb"
      },
      "source": [
        "# Let's try looking at some of these recent words in a Concordance view, try other words, in other books\n",
        "\n",
        "\n",
        "sas.concordance(\"job\")\n",
        "print()\n",
        "sas.concordance(\"amos\")\n",
        "print()\n",
        "sas.concordance(\"malachi\")\n",
        "print()\n",
        "\n",
        "## Try out a more common word\n",
        "\n",
        "sas.concordance(\"dare\")\n"
      ],
      "execution_count": null,
      "outputs": [
        {
          "output_type": "stream",
          "name": "stdout",
          "text": [
            "Displaying 25 of 61 matches:\n",
            "of Issachar ; Tola , and Phuvah , and Job , and Shimron . 46 : 14 And the sons \n",
            "g peace to all his seed . The Book of Job 1 : 1 There was a man in the land of \n",
            "an in the land of Uz , whose name was Job ; and that man was perfect and uprigh\n",
            "their feasting were gone about , that Job sent and sanctified them , and rose u\n",
            "rding to the number of them all : for Job said , It may be that my sons have si\n",
            "cursed God in their hearts . Thus did Job continually . 1 : 6 Now there was a d\n",
            "tan , Hast thou considered my servant Job , that there is none like him in the \n",
            "n answered the LORD , and said , Doth Job fear God for nought ? 1 : 10 Hast not\n",
            " : 14 And there came a messenger unto Job , and said , The oxen were plowing , \n",
            "aped alone to tell thee . 1 : 20 Then Job arose , and rent his mantle , and sha\n",
            "name of the LORD . 1 : 22 In all this Job sinned not , nor charged God foolishl\n",
            "tan , Hast thou considered my servant Job , that there is none like him in the \n",
            " the presence of the LORD , and smote Job with sore boils from the sole of his \n",
            "ot receive evil ? In all this did not Job sin with his lips . 2 : 11 Now when J\n",
            "b sin with his lips . 2 : 11 Now when Job ' s three friends heard of all this e\n",
            " very great . 3 : 1 After this opened Job his mouth , and cursed his day . 3 : \n",
            "outh , and cursed his day . 3 : 2 And Job spake , and said , 3 : 3 Let the day \n",
            "know thou it for thy good . 6 : 1 But Job answered and said , 6 : 2 Oh that my \n",
            "ked shall come to nought . 9 : 1 Then Job answered and said , 9 : 2 I know it i\n",
            "e giving up of the ghost . 12 : 1 And Job answered and said , 12 : 2 No doubt b\n",
            " belly prepareth deceit . 16 : 1 Then Job answered and said , 16 : 2 I have hea\n",
            "im that knoweth not God . 19 : 1 Then Job answered and said , 19 : 2 How long w\n",
            "ppointed unto him by God . 21 : 1 But Job answered and said , 21 : 2 Hear dilig\n",
            "pureness of thine hands . 23 : 1 Then Job answered and said , 23 : 2 Even to da\n",
            "of man , which is a worm ? 26 : 1 But Job answered and said , 26 : 2 How hast t\n",
            "\n",
            "Displaying 9 of 9 matches:\n",
            "ed : for the LORD dwelleth in Zion . Amos 1 : 1 The words of Amos , who was am\n",
            "th in Zion . Amos 1 : 1 The words of Amos , who was among the herdmen of Tekoa\n",
            " . 7 : 8 And the LORD said unto me , Amos , what seest thou ? And I said , A p\n",
            "o Jeroboam king of Israel , saying , Amos hath conspired against thee in the m\n",
            "bear all his words . 7 : 11 For thus Amos saith , Jeroboam shall die by the sw\n",
            "land . 7 : 12 Also Amaziah said unto Amos , O thou seer , go , flee thee away \n",
            "ing ' s court . 7 : 14 Then answered Amos , and said to Amaziah , I was no pro\n",
            "f summer fruit . 8 : 2 And he said , Amos , what seest thou ? And I said , A b\n",
            "of Mattathias , which was the son of Amos , which was the son of Naum , which \n",
            "\n",
            "Displaying 2 of 2 matches:\n",
            "in the house of the LORD of hosts . Malachi 1 : 1 The burden of the word of the\n",
            "f the word of the LORD to Israel by Malachi . 1 : 2 I have loved you , saith th\n",
            "\n",
            "Displaying 5 of 5 matches:\n",
            "him ? 41 : 10 None is so fierce that dare stir him up : who then is able to st\n",
            "nture for a good man some would even dare to die . 5 : 8 But God commendeth hi\n",
            "tain to God . 15 : 18 For I will not dare to speak of any of those things whic\n",
            "ourselves that wicked person . 6 : 1 Dare any of you , having a matter against\n",
            "when we are present . 10 : 12 For we dare not make ourselves of the number , o\n"
          ]
        }
      ]
    },
    {
      "cell_type": "code",
      "source": [
        "# Solution to Question 3."
      ],
      "metadata": {
        "id": "U0c7uY72ClsC"
      },
      "execution_count": null,
      "outputs": []
    },
    {
      "cell_type": "markdown",
      "source": [
        "\n",
        "Q. 4. Illustrate frequency dispersion of some words in different books.\n",
        "\n",
        "[*04 Marks*]\n"
      ],
      "metadata": {
        "id": "GSnD1YngCq6e"
      }
    },
    {
      "cell_type": "code",
      "source": [
        "# Helper code for your reference, play around with different words in various books.\n",
        "\n",
        "plt.figure(figsize=(15, 4)) \n",
        "\n",
        "# look at words as they appear over time in the book/document\n",
        "\n",
        "words_of_interest = [\"sense\", \"love\", \"heart\", \"listen\", \"man\", \"woman\"]\n",
        "sas.dispersion_plot(words_of_interest)"
      ],
      "metadata": {
        "id": "ej2RHh0wDAs-",
        "colab": {
          "base_uri": "https://localhost:8080/",
          "height": 295
        },
        "outputId": "031017ec-20ad-43a1-e20a-a36b187daa66"
      },
      "execution_count": null,
      "outputs": [
        {
          "output_type": "display_data",
          "data": {
            "text/plain": [
              "<Figure size 1080x288 with 1 Axes>"
            ],
            "image/png": "[encoded data removed]"
          },
          "metadata": {
            "needs_background": "light"
          }
        }
      ]
    }
  ]
}