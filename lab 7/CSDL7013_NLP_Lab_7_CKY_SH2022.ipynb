{
  "nbformat": 4,
  "nbformat_minor": 0,
  "metadata": {
    "colab": {
      "provenance": []
    },
    "kernelspec": {
      "name": "python3",
      "display_name": "Python 3"
    },
    "language_info": {
      "name": "python"
    }
  },
  "cells": [
    {
      "cell_type": "markdown",
      "source": [
        "# CSDL7013 Natural Language Processing Lab 7\n",
        "\n",
        "* NOTE: Prepend your Roll Number to the name of this file\n",
        "\n",
        "* YET ANOTHER NOTE: Take print out of the relevant code cells only."
      ],
      "metadata": {
        "id": "vKeGVu2k8Hmt"
      }
    },
    {
      "cell_type": "markdown",
      "source": [
        "## CKY Algorithm Implementation Lab\n",
        "\n",
        "1. **Title:**  CKY Algorithm\n",
        "\n",
        "2. **Objective/Aim:** To  implement CKY Algorithm\n",
        "\n",
        "3. **Due Date:** Friday September 30, 2022\n",
        "\n",
        "\n",
        "\n",
        "\n"
      ],
      "metadata": {
        "id": "5xL99s7p8OK4"
      }
    },
    {
      "cell_type": "markdown",
      "source": [
        "### Name : \n",
        "\n",
        "### Roll Number :"
      ],
      "metadata": {
        "id": "u4CzHC3T82GQ"
      }
    },
    {
      "cell_type": "markdown",
      "source": [
        "# Use the following helper code snippets to solve the exercises of this lab."
      ],
      "metadata": {
        "id": "qMUXNxqeBE9T"
      }
    },
    {
      "cell_type": "markdown",
      "source": [
        "## Reading a grammar"
      ],
      "metadata": {
        "id": "l4KyId28BMlC"
      }
    },
    {
      "cell_type": "code",
      "execution_count": 2,
      "metadata": {
        "id": "SGsvX7HN8j9U"
      },
      "outputs": [],
      "source": [
        "# import nltk\n",
        "\n",
        "# myGrammar = nltk.CFG.fromstring(\"\"\"S -> VB NP\n",
        "# NP -> DT NN\n",
        "# DT -> 'The' | 'A' | 'That' | 'This'\n",
        "# VB -> 'Walk' | 'Talk' | 'Eat' | 'Read'\n",
        "# NN -> 'Book' | 'Chocolate' | 'Apple' | 'Paper'\"\"\")"
      ]
    },
    {
      "cell_type": "code",
      "source": [
        "##### NOTE: You need to upload the grammar file\n",
        "###############################################\n",
        "\n",
        "\n",
        "#myGrammar2 = nltk.data.load('grammars/myGrammar.cfg')\n"
      ],
      "metadata": {
        "id": "Pv4LxU1hBhqe"
      },
      "execution_count": null,
      "outputs": []
    },
    {
      "cell_type": "markdown",
      "source": [
        "## Display CKY Table"
      ],
      "metadata": {
        "id": "yH0qKGWGB_rt"
      }
    },
    {
      "cell_type": "code",
      "source": [
        "# def display(ckytable, tokens):\n",
        "#     print('\\nCKY Table ' + ' '.join((\"%-4d\" % i) for i in range(1, len(ckytable))))\n",
        "#     for i in range(len(ckytable)-1):\n",
        "#         print(\"%d   \" % i, end=\" \")\n",
        "#         for j in range(1, len(ckytable)):\n",
        "#             print(\"%-4s\" % (ckytable[i][j] or '.'), end=\" \")\n",
        "#         print()"
      ],
      "metadata": {
        "id": "JeMlwRYXBy-w"
      },
      "execution_count": 3,
      "outputs": []
    },
    {
      "cell_type": "markdown",
      "source": [
        "## The Algorithm"
      ],
      "metadata": {
        "id": "KBALVKrAC10H"
      }
    },
    {
      "cell_type": "code",
      "source": [
        "# def init_cky(tokens, grammar):\n",
        "#     numtokens = len(tokens)\n",
        "#     cky = [[None for i in range(numtokens+1)] for j in range(numtokens+1)]\n",
        "#     for i in range(numtokens):\n",
        "#         productions = grammar.productions(rhs=tokens[i])\n",
        "#         cky[i][i+1] = productions[0].lhs()\n",
        "#     return cky\n"
      ],
      "metadata": {
        "id": "3tRj53K5CVvq"
      },
      "execution_count": 5,
      "outputs": []
    },
    {
      "cell_type": "code",
      "source": [
        "# def ckyAlgorithm(ckytable, tokens, grammar, trace=False):\n",
        "#     index = dict((p.rhs(), p.lhs()) for p in grammar.productions())\n",
        "#     numtokens = len(tokens)\n",
        "#     for span in range(2, numtokens+1):\n",
        "#         for start in range(numtokens+1-span):\n",
        "#             end = start + span\n",
        "#             for mid in range(start+1, end):\n",
        "#                 nt1, nt2 = ckytable[start][mid], ckytable[mid][end]\n",
        "#                 if nt1 and nt2 and (nt1,nt2) in index:\n",
        "#                     ckytable[start][end] = index[(nt1,nt2)]\n",
        "#                     if trace:\n",
        "#                         print(\"[%s] %3s [%s] %3s [%s] ==> [%s] %3s [%s]\" % \\\n",
        "#                         (start, nt1, mid, nt2, end, start, index[(nt1,nt2)], end))\n",
        "#     return ckytable"
      ],
      "metadata": {
        "id": "CGUlFINkCFT1"
      },
      "execution_count": 6,
      "outputs": []
    },
    {
      "cell_type": "markdown",
      "source": [
        "## Using the Algorithm"
      ],
      "metadata": {
        "id": "glUwx1H3C4Re"
      }
    },
    {
      "cell_type": "code",
      "source": [
        "# tokens = \"Eat That Chocolate\".split()\n",
        "\n",
        "# cky0 = init_cky(tokens, myGrammar)\n",
        "\n",
        "# display(cky0,tokens)"
      ],
      "metadata": {
        "id": "4MZieiyOCztZ"
      },
      "execution_count": null,
      "outputs": []
    },
    {
      "cell_type": "code",
      "source": [
        "# cky1 = ckyAlgorithm(cky0, tokens, myGrammar)\n",
        "# display(cky1,tokens)"
      ],
      "metadata": {
        "id": "SBzwlB4vDXPW"
      },
      "execution_count": null,
      "outputs": []
    },
    {
      "cell_type": "markdown",
      "source": [
        "## Solve your Exercise below this."
      ],
      "metadata": {
        "id": "JYoRQxpzEb70"
      }
    }
  ]
}