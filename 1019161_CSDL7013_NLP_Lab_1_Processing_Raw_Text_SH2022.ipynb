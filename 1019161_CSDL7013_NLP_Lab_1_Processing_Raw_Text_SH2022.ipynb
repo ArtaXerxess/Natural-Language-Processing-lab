{
  "nbformat": 4,
  "nbformat_minor": 0,
  "metadata": {
    "colab": {
      "name": "1019161_CSDL7013_NLP_Lab_1_Processing_Raw_Text_SH2022.ipynb",
      "provenance": [],
      "collapsed_sections": []
    },
    "kernelspec": {
      "name": "python3",
      "display_name": "Python 3"
    },
    "language_info": {
      "name": "python"
    }
  },
  "cells": [
    {
      "cell_type": "markdown",
      "source": [
        "# CSDL7013 Natural Language Processing Lab 1\n",
        "\n",
        "* NOTE: Prepend your Roll Number to the name of this file"
      ],
      "metadata": {
        "id": "BFhcNCABu3TT"
      }
    },
    {
      "cell_type": "markdown",
      "source": [
        "## Processing Raw Text\n",
        "\n",
        "1. **Title:** Processing Raw Text\n",
        "\n",
        "2. **Objective/Aim:** To  acquire, clean, and process the raw text data.\n",
        "\n",
        "3. **Due Date:** Saturday July 23, 2022 \n",
        "\n",
        "\n",
        "\n",
        "\n"
      ],
      "metadata": {
        "id": "CShrs1j_vB36"
      }
    },
    {
      "cell_type": "markdown",
      "source": [
        "### The given text files are **alice.txt** and **holmes.txt**"
      ],
      "metadata": {
        "id": "QWwrG2FWx00L"
      }
    },
    {
      "cell_type": "markdown",
      "source": [
        "### Name : Harshvardhan Singh\n",
        "\n",
        "### Roll Number : 1019161"
      ],
      "metadata": {
        "id": "R6vZfiRg1LD1"
      }
    },
    {
      "cell_type": "markdown",
      "source": [
        "\n",
        "Q. 1. Read the text  file given  and print it's contents as it is.\n",
        "\n",
        "[*02 Marks*]\n"
      ],
      "metadata": {
        "id": "OFTap9Pmx6Y5"
      }
    },
    {
      "cell_type": "code",
      "execution_count": 15,
      "metadata": {
        "id": "nYJ0usz0lpwN",
        "colab": {
          "base_uri": "https://localhost:8080/"
        },
        "outputId": "5c79d2be-67f9-487a-d752-3eb9ecd4b455"
      },
      "outputs": [
        {
          "output_type": "stream",
          "name": "stdout",
          "text": [
            "holmes.txt\n",
            " I shook my head. \"Many men have been hanged on far slighter evidence,\" I remarked.\n",
            "\"So they have. And many men have been wrongfully hanged.\"\n",
            "\"What is the young man’s own account of the matter?\"\n",
            "\"It is, I am afraid, not very encouraging to his supporters, \n",
            "though there are one or two points in it which are suggestive. \n",
            "You will find it here, and may read it for yourself.\"\n",
            "He picked out from his bundle a copy of the local Herefordshire paper, \n",
            "and having turned down the sheet he pointed out the paragraph in which \n",
            "the unfortunate young man had given his own statement of what had occurred. \n",
            "I settled myself down in the corner of the carriage and read it very carefully. \n",
            "alice.txt\n",
            " I shook my head. \"Many men have been hanged on far slighter evidence,\" I remarked.\n",
            "\"So they have. And many men have been wrongfully hanged.\"\n",
            "\"What is the young man’s own account of the matter?\"\n",
            "\"It is, I am afraid, not very encouraging to his supporters, \n",
            "though there are one or two points in it which are suggestive. \n",
            "You will find it here, and may read it for yourself.\"\n",
            "He picked out from his bundle a copy of the local Herefordshire paper, \n",
            "and having turned down the sheet he pointed out the paragraph in which \n",
            "the unfortunate young man had given his own statement of what had occurred. \n",
            "I settled myself down in the corner of the carriage and read it very carefully. \n"
          ]
        }
      ],
      "source": [
        "# Solution to Q.1.\n",
        "holmes = open(\"data/holmes.txt\",\"r\")\n",
        "print(\"holmes.txt\\n\",holmes.read())\n",
        "alice = open(\"data/holmes.txt\",\"r\")\n",
        "print(\"alice.txt\\n\",alice.read())\n",
        "alice.close()\n",
        "holmes.close()"
      ]
    },
    {
      "cell_type": "markdown",
      "source": [
        "Q. 2. Remove all spaces, punctuation symbols. Store all words in a list, find the total number of words, print some parts of the list, find top ten words of maximum length and print them.\n",
        "\n",
        "[*02 Marks*]"
      ],
      "metadata": {
        "id": "tJsbwuq3y336"
      }
    },
    {
      "cell_type": "code",
      "source": [
        "# Solultion to Q.2.\n",
        "import string\n",
        "# Holmes.txt\n",
        "with open(\"data/holmes.txt\",\"r\") as f:\n",
        "  holmes_str=f.read()\n",
        "  f.close()\n",
        "t=holmes_str.translate(str.maketrans(\"\",\"\",string.punctuation))\n",
        "t = t.replace(\"\\n\",\"\")\n",
        "holmes = t.split(\" \")\n",
        "print(\"List = \",holmes,end=\"\\n\")\n",
        "print(\"Numbe of words = \",len(holmes),end=\"\\n\")\n"
      ],
      "metadata": {
        "id": "IEnsYZrYzCND",
        "colab": {
          "base_uri": "https://localhost:8080/"
        },
        "outputId": "4e9ca7fa-465d-4054-99b5-4a7b6e01c178"
      },
      "execution_count": 20,
      "outputs": [
        {
          "output_type": "stream",
          "name": "stdout",
          "text": [
            "List =  ['I', 'shook', 'my', 'head', 'Many', 'men', 'have', 'been', 'hanged', 'on', 'far', 'slighter', 'evidence', 'I', 'remarkedSo', 'they', 'have', 'And', 'many', 'men', 'have', 'been', 'wrongfully', 'hangedWhat', 'is', 'the', 'young', 'man’s', 'own', 'account', 'of', 'the', 'matterIt', 'is', 'I', 'am', 'afraid', 'not', 'very', 'encouraging', 'to', 'his', 'supporters', 'though', 'there', 'are', 'one', 'or', 'two', 'points', 'in', 'it', 'which', 'are', 'suggestive', 'You', 'will', 'find', 'it', 'here', 'and', 'may', 'read', 'it', 'for', 'yourselfHe', 'picked', 'out', 'from', 'his', 'bundle', 'a', 'copy', 'of', 'the', 'local', 'Herefordshire', 'paper', 'and', 'having', 'turned', 'down', 'the', 'sheet', 'he', 'pointed', 'out', 'the', 'paragraph', 'in', 'which', 'the', 'unfortunate', 'young', 'man', 'had', 'given', 'his', 'own', 'statement', 'of', 'what', 'had', 'occurred', 'I', 'settled', 'myself', 'down', 'in', 'the', 'corner', 'of', 'the', 'carriage', 'and', 'read', 'it', 'very', 'carefully', '']\n",
            "Numbe of words =  120\n"
          ]
        }
      ]
    },
    {
      "cell_type": "code",
      "source": [
        "# alice.txt\n",
        "with open(\"data/alice.txt\",\"r\") as f:\n",
        "  alice_str=f.read()\n",
        "  f.close()\n",
        "t=alice_str.translate(str.maketrans(\"\",\"\",string.punctuation))\n",
        "t = t.replace(\"\\n\",\"\")\n",
        "alice = t.split(\" \")\n",
        "print(\"List = \",alice,end=\"\\n\")\n",
        "print(\"Numbe of words = \",len(alice),end=\"\\n\")"
      ],
      "metadata": {
        "colab": {
          "base_uri": "https://localhost:8080/"
        },
        "id": "v01NPiZ69Ba1",
        "outputId": "69f9a99f-da7f-469f-8de0-0929a38d6100"
      },
      "execution_count": 21,
      "outputs": [
        {
          "output_type": "stream",
          "name": "stdout",
          "text": [
            "List =  ['There', 'was', 'no', 'One', 'two', 'three', 'and', 'away', 'but', 'they', 'began', 'running', 'when', 'they', 'liked', 'and', 'left', 'off', 'when', 'they', 'liked', 'so', 'that', 'it', 'was', 'not', 'easy', 'to', 'know', 'when', 'the', 'race', 'was', 'over', 'However', 'when', 'they', 'had', 'been', 'running', 'half', 'an', 'hour', 'or', 'so', 'and', 'were', 'quite', 'dry', 'again', 'the', 'Dodo', 'suddenly', 'called', 'out', 'The', 'race', 'is', 'over', 'and', 'they', 'all', 'crowded', 'round', 'it', 'panting', 'and', 'asking', 'But', 'who', 'has', 'wonThis', 'question', 'the', 'Dodo', 'could', 'not', 'answer', 'without', 'a', 'great', 'deal', 'of', 'thought', 'and', 'it', 'sat', 'for', 'a', 'long', 'time', 'with', 'one', 'finger', 'pressed', 'upon', 'its', 'forehead', 'the', 'position', 'in', 'which', 'you', 'usually', 'see', 'Shakespeare', 'in', 'the', 'pictures', 'of', 'him', 'while', 'the', 'rest', 'waited', 'in', 'silence', 'At', 'last', 'the', 'Dodo', 'said', 'Everybody', 'has', 'won', 'and', 'all', 'must', 'have', 'prizes']\n",
            "Numbe of words =  130\n"
          ]
        }
      ]
    },
    {
      "cell_type": "markdown",
      "source": [
        "Q. 3. Consider the following stopwords (Add few more if you feel some are left out):\n",
        "    \n",
        "    {'a','an','the','of','is','this','that','to'}\n",
        "\n",
        "Extract all words from the given input excluding the stopwords and put it in the list. Print the count of such words.\n",
        "\n",
        "[*02 Marks*]"
      ],
      "metadata": {
        "id": "FUOLclKczJ2r"
      }
    },
    {
      "cell_type": "code",
      "source": [
        "# Solultion to Q.3.\n",
        "stopwords=['a','an','the','of','is','this','that','to','']\n",
        "\n",
        "for i in range(0,len(alice)):\n",
        "  if alice[i] in stopwords:\n",
        "    # alice[i] = \"\"\n",
        "    alice.pop(i)\n",
        "\n",
        "print(\"alice = \",alice)\n",
        "\n",
        "for i in range(0,len(holmes)):\n",
        "  if holmes[i] in stopwords:\n",
        "    holmes.pop(i)\n",
        "\n",
        "print(\"holmes = \",holmes)\n"
      ],
      "metadata": {
        "id": "aoEZ-FYVzUBj",
        "colab": {
          "base_uri": "https://localhost:8080/"
        },
        "outputId": "604cdb89-4687-419f-f713-5696f70ff314"
      },
      "execution_count": 25,
      "outputs": [
        {
          "output_type": "stream",
          "name": "stdout",
          "text": [
            "alice =  ['There', 'was', 'no', 'One', 'two', 'three', 'and', 'away', 'but', 'they', 'began', 'running', 'when', 'they', 'liked', 'and', 'left', 'off', 'when', 'they', 'liked', 'so', 'it', 'was', 'not', 'easy', 'know', 'when', 'race', 'was', 'over', 'However', 'when', 'they', 'had', 'been', 'running', 'half', 'hour', 'or', 'so', 'and', 'were', 'quite', 'dry', 'again', 'Dodo', 'suddenly', 'called', 'out', 'The', 'race', 'over', 'and', 'they', 'all', 'crowded', 'round', 'it', 'panting', 'and', 'asking', 'But', 'who', 'has', 'wonThis', 'question', 'Dodo', 'could', 'not', 'answer', 'without', 'great', 'deal', 'thought', 'and', 'it', 'sat', 'for', 'long', 'time', 'with', 'one', 'finger', 'pressed', 'upon', 'its', 'forehead', 'position', 'in', 'which', 'you', 'usually', 'see', 'Shakespeare', 'in', 'pictures', 'him', 'while', 'rest', 'waited', 'in', 'silence', 'At', 'last', 'Dodo', 'said', 'Everybody', 'has', 'won', 'and', 'all', 'must', 'have', 'prizes']\n",
            "holmes =  ['I', 'shook', 'my', 'head', 'Many', 'men', 'have', 'been', 'hanged', 'on', 'far', 'slighter', 'evidence', 'I', 'remarkedSo', 'they', 'have', 'And', 'many', 'men', 'have', 'been', 'wrongfully', 'hangedWhat', 'young', 'man’s', 'own', 'account', 'matterIt', 'I', 'am', 'afraid', 'not', 'very', 'encouraging', 'his', 'supporters', 'though', 'there', 'are', 'one', 'or', 'two', 'points', 'in', 'it', 'which', 'are', 'suggestive', 'You', 'will', 'find', 'it', 'here', 'and', 'may', 'read', 'it', 'for', 'yourselfHe', 'picked', 'out', 'from', 'his', 'bundle', 'copy', 'local', 'Herefordshire', 'paper', 'and', 'having', 'turned', 'down', 'sheet', 'he', 'pointed', 'out', 'paragraph', 'in', 'which', 'unfortunate', 'young', 'man', 'had', 'given', 'his', 'own', 'statement', 'what', 'had', 'occurred', 'I', 'settled', 'myself', 'down', 'in', 'corner', 'carriage', 'and', 'read', 'it', 'very', 'carefully']\n"
          ]
        }
      ]
    },
    {
      "cell_type": "markdown",
      "source": [
        "Q. 4.  Perform frequency distribution on the list in the previous exercise.\n",
        "\n",
        "[*02 Marks*]"
      ],
      "metadata": {
        "id": "005BDdiZzsy8"
      }
    },
    {
      "cell_type": "code",
      "source": [
        "# Solultion to Q.4.\n",
        "res_holmes = {i:holmes.count(i) for i in holmes}\n",
        "print(res_holmes)\n",
        "res_alice = {i:alice.count(i) for i in alice}\n",
        "print(res_alice)"
      ],
      "metadata": {
        "id": "BzY7K4QhzyJY",
        "colab": {
          "base_uri": "https://localhost:8080/"
        },
        "outputId": "923ffec3-d658-46d4-e7a8-e821350810e2"
      },
      "execution_count": 31,
      "outputs": [
        {
          "output_type": "stream",
          "name": "stdout",
          "text": [
            "{'I': 4, 'shook': 1, 'my': 1, 'head': 1, 'Many': 1, 'men': 2, 'have': 3, 'been': 2, 'hanged': 1, 'on': 1, 'far': 1, 'slighter': 1, 'evidence': 1, 'remarkedSo': 1, 'they': 1, 'And': 1, 'many': 1, 'wrongfully': 1, 'hangedWhat': 1, 'young': 2, 'man’s': 1, 'own': 2, 'account': 1, 'matterIt': 1, 'am': 1, 'afraid': 1, 'not': 1, 'very': 2, 'encouraging': 1, 'his': 3, 'supporters': 1, 'though': 1, 'there': 1, 'are': 2, 'one': 1, 'or': 1, 'two': 1, 'points': 1, 'in': 3, 'it': 4, 'which': 2, 'suggestive': 1, 'You': 1, 'will': 1, 'find': 1, 'here': 1, 'and': 3, 'may': 1, 'read': 2, 'for': 1, 'yourselfHe': 1, 'picked': 1, 'out': 2, 'from': 1, 'bundle': 1, 'copy': 1, 'local': 1, 'Herefordshire': 1, 'paper': 1, 'having': 1, 'turned': 1, 'down': 2, 'sheet': 1, 'he': 1, 'pointed': 1, 'paragraph': 1, 'unfortunate': 1, 'man': 1, 'had': 2, 'given': 1, 'statement': 1, 'what': 1, 'occurred': 1, 'settled': 1, 'myself': 1, 'corner': 1, 'carriage': 1, 'carefully': 1}\n",
            "{'There': 1, 'was': 3, 'no': 1, 'One': 1, 'two': 1, 'three': 1, 'and': 7, 'away': 1, 'but': 1, 'they': 5, 'began': 1, 'running': 2, 'when': 4, 'liked': 2, 'left': 1, 'off': 1, 'so': 2, 'it': 3, 'not': 2, 'easy': 1, 'know': 1, 'race': 2, 'over': 2, 'However': 1, 'had': 1, 'been': 1, 'half': 1, 'hour': 1, 'or': 1, 'were': 1, 'quite': 1, 'dry': 1, 'again': 1, 'Dodo': 3, 'suddenly': 1, 'called': 1, 'out': 1, 'The': 1, 'all': 2, 'crowded': 1, 'round': 1, 'panting': 1, 'asking': 1, 'But': 1, 'who': 1, 'has': 2, 'wonThis': 1, 'question': 1, 'could': 1, 'answer': 1, 'without': 1, 'great': 1, 'deal': 1, 'thought': 1, 'sat': 1, 'for': 1, 'long': 1, 'time': 1, 'with': 1, 'one': 1, 'finger': 1, 'pressed': 1, 'upon': 1, 'its': 1, 'forehead': 1, 'position': 1, 'in': 3, 'which': 1, 'you': 1, 'usually': 1, 'see': 1, 'Shakespeare': 1, 'pictures': 1, 'him': 1, 'while': 1, 'rest': 1, 'waited': 1, 'silence': 1, 'At': 1, 'last': 1, 'said': 1, 'Everybody': 1, 'won': 1, 'must': 1, 'have': 1, 'prizes': 1}\n"
          ]
        }
      ]
    },
    {
      "cell_type": "markdown",
      "source": [
        "Q. 5. Plot the frequency distribution graph.\n",
        "\n",
        "[*02 Marks*]"
      ],
      "metadata": {
        "id": "Qfxt0SiUz6H-"
      }
    },
    {
      "cell_type": "code",
      "source": [
        "# Solultion to Q.5.\n",
        "import matplotlib.pyplot as plt\n",
        "holmes_keys = list(res_holmes.keys())\n",
        "holmes_values=list(res_holmes.values())\n",
        "plt.bar(range(len(res_holmes)),holmes_values,tick_label=holmes_keys)\n",
        "plt.show()"
      ],
      "metadata": {
        "id": "MLYU1clEz_9k",
        "colab": {
          "base_uri": "https://localhost:8080/",
          "height": 265
        },
        "outputId": "f6e067d2-8d61-4846-9e8b-865fa3c48a28"
      },
      "execution_count": 29,
      "outputs": [
        {
          "output_type": "display_data",
          "data": {
            "text/plain": [
              "<Figure size 432x288 with 1 Axes>"
            ],
            "image/png": "[encoded data removed]"
          },
          "metadata": {
            "needs_background": "light"
          }
        }
      ]
    },
    {
      "cell_type": "code",
      "source": [
        "alice_keys = list(res_alice.keys())\n",
        "alice_values=list(res_alice.values())\n",
        "plt.bar(range(len(res_alice)),alice_values,tick_label=alice_keys)\n",
        "plt.show()"
      ],
      "metadata": {
        "colab": {
          "base_uri": "https://localhost:8080/",
          "height": 265
        },
        "id": "Wp4RSXW6l_u6",
        "outputId": "e14e6529-9c50-426d-aeea-181d6e3b5845"
      },
      "execution_count": 30,
      "outputs": [
        {
          "output_type": "display_data",
          "data": {
            "text/plain": [
              "<Figure size 432x288 with 1 Axes>"
            ],
            "image/png": "[encoded data removed]"
          },
          "metadata": {
            "needs_background": "light"
          }
        }
      ]
    }
  ]
}