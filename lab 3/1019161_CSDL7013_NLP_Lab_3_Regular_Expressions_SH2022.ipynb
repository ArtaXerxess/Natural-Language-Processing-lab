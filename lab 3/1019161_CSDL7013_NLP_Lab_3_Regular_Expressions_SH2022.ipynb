{
  "cells": [
    {
      "cell_type": "markdown",
      "metadata": {
        "id": "vKeGVu2k8Hmt"
      },
      "source": [
        "# CSDL7013 Natural Language Processing Lab 3\n",
        "\n",
        "* NOTE: Prepend your Roll Number to the name of this file"
      ]
    },
    {
      "cell_type": "markdown",
      "metadata": {
        "id": "5xL99s7p8OK4"
      },
      "source": [
        "## Regular Expressions\n",
        "\n",
        "1. **Title:** Regular Expressions\n",
        "\n",
        "2. **Objective/Aim:** o  illustrate use of regular expressions at pre-processing stage of NLP\n",
        "\n",
        "3. **Due Date:** Saturday August 06, 2022 \n",
        "\n",
        "\n",
        "\n",
        "\n"
      ]
    },
    {
      "cell_type": "markdown",
      "metadata": {
        "id": "u4CzHC3T82GQ"
      },
      "source": [
        "### Name : Harshvardhan Singh\n",
        "\n",
        "### Roll Number : 1019161"
      ]
    },
    {
      "cell_type": "markdown",
      "metadata": {
        "id": "VJEv30IU0X8Q"
      },
      "source": [
        "** 1.2 Crash Course in Regular Expressions **\n",
        "\n",
        "If you are new to using regular expressions, or would like a quick refresher, you can study the examples\n",
        "and resulting output in the code cell below.\n",
        "\n",
        "Here is a cheat sheet for the SEARCH BASICS (code examples follow below):\n",
        "\n",
        "    Operator   Meaning       Example  Example meaning\n",
        "    \n",
        "    +          one or more   a+       look for 1 or more \"a\" characters \n",
        "    *          zero or more  a*       look for 0 or more \"a\" characters\n",
        "    ?          optional      a?       look for 0 or 1 \"a\" characters\n",
        "    []         choose 1      [abc]    look for \"a\" or \"b\" or \"c\"\n",
        "    [-]        range         [a-z]    look for any character between \"a\" and \"z\"\n",
        "    [^]        not           [^a]     look for character that is not \"a\"\n",
        "    ()         grouping      (a-z)+   look for one of more occurences of chars between \"a\" and \"z\"\n",
        "    (|)        or operator   (ey|ax)  look for strings \"ey\" or \"ax\"\n",
        "    \n",
        "    ab         follow        ab       look for character \"a\" followed by character \"b\"\n",
        "    ^          start         ^a       look for character \"a\" at start of string/line\n",
        "    $          end           a$       look for character \"a\" at end of string/line\n",
        "    \\s         whitespace    \\sa      look for whitespace character followed by \"a\"\n",
        "    .          any character a.b      look for \"a\" followed by any char followed by \"b\"\n",
        "    \n",
        "Common Uses:\n",
        "   - re.search     finds first matching object\n",
        "   - re.findall    returns all matching objects\n",
        "   - re.sub        replaces matches with replacement string\n",
        "    "
      ]
    },
    {
      "cell_type": "code",
      "execution_count": null,
      "metadata": {
        "colab": {
          "base_uri": "https://localhost:8080/"
        },
        "id": "4QI5zN520X8Q",
        "outputId": "601bd41c-2dbf-4286-896c-9a5fbe459c80"
      },
      "outputs": [
        {
          "name": "stdout",
          "output_type": "stream",
          "text": [
            "<re.Match object; span=(0, 1), match='s'>\n",
            "['s', 's', 's', 's', 's', 's', 's', 's']\n"
          ]
        }
      ],
      "source": [
        "import re\n",
        "\n",
        "# search for single char\n",
        "result = re.search(\"s\", \"she sells sea shells on the sea shore\")\n",
        "print(result)\n",
        "# search for all matches\n",
        "result = re.findall(\"s\", \"she sells sea shells on the sea shore\")\n",
        "print(result)"
      ]
    },
    {
      "cell_type": "code",
      "execution_count": null,
      "metadata": {
        "colab": {
          "base_uri": "https://localhost:8080/",
          "height": 35
        },
        "id": "u3ehgwBj0X8Y",
        "outputId": "71e30837-76b2-4e58-ab8b-1402b3dead89"
      },
      "outputs": [
        {
          "data": {
            "application/vnd.google.colaboratory.intrinsic+json": {
              "type": "string"
            },
            "text/plain": [
              "'x'"
            ]
          },
          "execution_count": 44,
          "metadata": {},
          "output_type": "execute_result"
        }
      ],
      "source": [
        "# search for single char\n",
        "re.search(\"x\", \"fix fax fast\").group(0)     # gives easier-to-read output"
      ]
    },
    {
      "cell_type": "code",
      "execution_count": 10,
      "metadata": {
        "colab": {
          "base_uri": "https://localhost:8080/"
        },
        "id": "zI55dBJD0X8a",
        "outputId": "d6d13493-2e94-47eb-b3db-9889623ea60b"
      },
      "outputs": [
        {
          "name": "stdout",
          "output_type": "stream",
          "text": [
            "['c', 'a', 'p', 't', 'a', 'i', 'n', 's', 't', 'o', 'r', 'm', 's', 'h', 'a', 'd', 'o', 'w', 'g', 'm', 'a', 'i', 'l', 'c', 'o', 'm']\n"
          ]
        }
      ],
      "source": [
        "# find all occurences of any character between \"a\" and \"z\"\n",
        "t=re.findall(\"[a-z]\", \"captainstormshadow07@gmail.com\")\n",
        "print(t)"
      ]
    },
    {
      "cell_type": "code",
      "execution_count": null,
      "metadata": {
        "colab": {
          "base_uri": "https://localhost:8080/"
        },
        "id": "ZoJRr_rd0X8c",
        "outputId": "ab77b691-cb6c-4da4-a23c-a1a563038864"
      },
      "outputs": [
        {
          "data": {
            "text/plain": [
              "['name', 'shaken', 'stirred']"
            ]
          },
          "execution_count": 46,
          "metadata": {},
          "output_type": "execute_result"
        }
      ],
      "source": [
        "# find all occurences of either \"name\" or \"shaken\" or \"stirred\"\n",
        "re.findall(\"(name|shaken|stirred)\", \"The name is Bond. James Bond. I want it shaken. Not stirred.\")"
      ]
    },
    {
      "cell_type": "code",
      "execution_count": null,
      "metadata": {
        "colab": {
          "base_uri": "https://localhost:8080/"
        },
        "id": "qJ0BxKW-0X8f",
        "outputId": "8a3af570-91a8-463e-81eb-bbbe54b157d6"
      },
      "outputs": [
        {
          "data": {
            "text/plain": [
              "['Lion', 'lion']"
            ]
          },
          "execution_count": 47,
          "metadata": {},
          "output_type": "execute_result"
        }
      ],
      "source": [
        "# find \"lion\", \"lions\" or \"Lion\", or \"Lions\"\n",
        "re.findall(\"([Ll]ion)s?\", \"Give it to the Lions or the lion.\")"
      ]
    },
    {
      "cell_type": "code",
      "execution_count": null,
      "metadata": {
        "colab": {
          "base_uri": "https://localhost:8080/"
        },
        "id": "lSd7EJXEuPbj",
        "outputId": "5e507c67-8ff0-4ab9-ccf6-5389b2af1cd1"
      },
      "outputs": [
        {
          "name": "stdout",
          "output_type": "stream",
          "text": [
            "<re.Match object; span=(16, 20), match='some'>\n",
            "Start :  16\n",
            "End :  20\n",
            "Span :  (16, 20)\n",
            "String :  NLP labs are awesome, so i'm told\n",
            "RE :  re.compile('some')\n",
            "Group :  some\n",
            "--------====>>>>Found it\n"
          ]
        }
      ],
      "source": [
        "message = \"NLP labs are awesome, so i'm told\"\n",
        "pattern = \"some\"\n",
        "\n",
        "result = re.search(pattern,message)\n",
        "\n",
        "print(result)\n",
        "\n",
        "print(\"Start : \",result.start())\n",
        "print(\"End : \",result.end())\n",
        "print(\"Span : \",result.span())\n",
        "print(\"String : \",result.string)\n",
        "print(\"RE : \",result.re)\n",
        "print(\"Group : \",result.group())\n",
        "\n",
        "\n",
        "\n",
        "if result:\n",
        "  print(\"--------====>>>>Found it\")\n",
        "else:\n",
        "  print(\"Tough Luck\")"
      ]
    },
    {
      "cell_type": "code",
      "execution_count": 11,
      "metadata": {
        "colab": {
          "base_uri": "https://localhost:8080/",
          "height": 35
        },
        "id": "Dr8PFzTX0X8h",
        "outputId": "b1c5db9a-c4d6-422c-ff71-6c90ee60bda0"
      },
      "outputs": [
        {
          "data": {
            "application/vnd.google.colaboratory.intrinsic+json": {
              "type": "string"
            },
            "text/plain": [
              "'xxMx xxE xxxxE Txxx MExxxxx xNx xOx xWxx.'"
            ]
          },
          "execution_count": 11,
          "metadata": {},
          "output_type": "execute_result"
        }
      ],
      "source": [
        "# replace all lowercase letters with \"x\"\n",
        "re.sub(\"[a-z]\", \"x\", \"soMe onE wrotE This MEssage aNd gOt aWay.\")"
      ]
    },
    {
      "cell_type": "markdown",
      "metadata": {
        "id": "ucoEIFm29CMg"
      },
      "source": [
        "\n",
        "Q. 1.  List all clauses from **ATaleOfTwoCities.txt**, that contains the phrase \"it was\", ignore case.\n",
        "\n",
        "[*02 Marks*]\n"
      ]
    },
    {
      "cell_type": "code",
      "execution_count": null,
      "metadata": {
        "colab": {
          "base_uri": "https://localhost:8080/"
        },
        "id": "3r8fxlBVn1iH",
        "outputId": "587862d1-496a-4add-88f2-d981500757c4"
      },
      "outputs": [
        {
          "name": "stdout",
          "output_type": "stream",
          "text": [
            "The clauses are as follows:\n",
            " \n",
            "It was the best of times\n",
            "it was the worst of times\n",
            "it was the age of wisdom\n",
            "it was the age of foolishness\n",
            "it was the epoch of belief\n",
            "it was the epoch of incredulity\n",
            "it was the season of Light\n",
            "it was the season of Darkness\n",
            "it was the spring of hope\n",
            "it was the winter of despair\n",
            "on the throne of France. In both countries it was clearer than crystal\n",
            "\n"
          ]
        }
      ],
      "source": [
        "#Solution to Q. 1. \n",
        "\n",
        "with open(\"ATaleOfTwoCities.txt\",\"r\") as a:\n",
        "  content = a.readlines()\n",
        "  a.close()\n",
        "clauses=[]\n",
        "for lines in content:\n",
        "  if \"it was\" in lines:\n",
        "    clauses.append(lines.split(\", \"))\n",
        "\n",
        "for i in range(0,len(clauses)):\n",
        "  for j in range(0,len(clauses[i])):\n",
        "    if clauses[i][j] == '\\n': # removing '\\n'\n",
        "      clauses[i].pop(j)\n",
        "\n",
        "print(\"The clauses are as follows:\\n \")   \n",
        "for i in range(0,len(clauses)):\n",
        "  for j in range(0,len(clauses[i])):\n",
        "    print(clauses[i][j])"
      ]
    },
    {
      "cell_type": "markdown",
      "metadata": {
        "id": "WabxvPGl3Cw8"
      },
      "source": [
        "\n",
        "Q. 2.  Replace all \"we\" with \"king\" and \"king\" with \"we\" in the file **ATaleOfTwoCities.txt**\n",
        "\n",
        "[*02 Marks*]\n"
      ]
    },
    {
      "cell_type": "code",
      "execution_count": 1,
      "metadata": {
        "colab": {
          "base_uri": "https://localhost:8080/"
        },
        "id": "6jlGk_ye3Cw9",
        "outputId": "e366b444-cad6-4768-a9e6-c8be17b3af81"
      },
      "outputs": [
        {
          "name": "stdout",
          "output_type": "stream",
          "text": [
            "It was the best of times, it was the worst of times, \n",
            "it was the age of wisdom, it was the age of foolishness, \n",
            "it was the epoch of belief, it was the epoch of incredulity, \n",
            "it was the season of Light, it was the season of Darkness, \n",
            "it was the spring of hope, it was the winter of despair, \n",
            "king had everything before us, king had nothing before us, \n",
            "king kingre all going direct to Heaven, king kingre all going \n",
            "direct the other way - in short, the period was so far \n",
            "like the present period, that some of its noisiest authorities \n",
            "insisted on its being received, for good or for evil, in \n",
            "the superlative degree of comparison only. \n",
            "\n",
            "There kingre a we with a large jaw and a queen with a plain face, \n",
            "on the throne of England; there kingre a we with a large jaw and a queen with a fair face, \n",
            "on the throne of France. In both countries it was clearer than crystal\n",
            " to the lords of the State preserves of loaves and fishes, \n",
            "that things in general kingre settled for ever. \n"
          ]
        }
      ],
      "source": [
        "# Solution to Q 2\n",
        "import re\n",
        "\n",
        "twoCities = open(\"ATaleOfTwoCities.txt\",'r').read()\n",
        "sub1 = re.sub(\"we\",\"subs\",twoCities)\n",
        "sub2=re.sub(\"king\",\"we\",sub1)\n",
        "sub=re.sub(\"subs\",\"king\",sub2)\n",
        "print(sub)"
      ]
    },
    {
      "cell_type": "markdown",
      "metadata": {
        "id": "AVS22Brw3Shn"
      },
      "source": [
        "\n",
        "Q. 3.  Extract all pronouns from the text file **TheCountOfMonteCristo.txt**\n",
        "\n",
        "[*02 Marks*]\n"
      ]
    },
    {
      "cell_type": "code",
      "execution_count": 3,
      "metadata": {
        "colab": {
          "base_uri": "https://localhost:8080/"
        },
        "id": "22fuuae_3bkr",
        "outputId": "916d4f66-3157-4a05-fe40-b7ee82992970"
      },
      "outputs": [
        {
          "name": "stdout",
          "output_type": "stream",
          "text": [
            " He was a fine, tall, slim young fellow of eighteen or twenty, \n",
            "with black eyes, and hair as dark as a raven's wing; and his \n",
            "whole appearance bespoke that calmness and resolution peculiar \n",
            "to men accustomed from their cradle to contend with danger.\n",
            "\n",
            "\"Ah, is it you, Dantès?\" cried the man in the skiff. \n",
            "\"What's the matter? and why have you such an air of sadness aboard?\"\n",
            "\n",
            "\"A great misfortune, M. Morrel,\" replied the young man, \n",
            "\"a great misfortune, for me especially! Off Civita Vecchia we lost our brave Captain Leclere.\"\n",
            "\n",
            "\"And the cargo?\" inquired the owner, eagerly\n",
            "\n",
            "\"Is all safe, M. Morrel; and I think you will be satisfied on that head. But poor Captain Leclere\"\n",
            "\n",
            "\"What happened to him?” asked the owner, with an air of considerable resignation. \n",
            "\"What happened to the worthy captain?\"\n",
            "\n",
            "\"He died.\"\n",
            "\n",
            "\"Fell into the sea?\"\n",
            "\n",
            "\"No, sir, he died of brain-fever in dreadful agony.\" \n",
            "Then turning to the crew, he said, \"Bear a hand there, to take in sail!\"\n"
          ]
        }
      ],
      "source": [
        "#Solution to Q. 3.\n",
        "monteCristo=open('TheCountOfMonteCristo.txt','r').read()\n",
        "print(monteCristo)"
      ]
    },
    {
      "cell_type": "code",
      "execution_count": 4,
      "metadata": {
        "colab": {
          "base_uri": "https://localhost:8080/"
        },
        "id": "_ygz1dTf6uIY",
        "outputId": "98dfef46-5db8-4c20-fad6-c78a5323708c"
      },
      "outputs": [
        {
          "name": "stdout",
          "output_type": "stream",
          "text": [
            "[('you', 'you'), ('He', 'He'), ('it', 'it'), ('he', 'he'), ('him', 'him'), ('we', 'we')]\n"
          ]
        },
        {
          "name": "stderr",
          "output_type": "stream",
          "text": [
            "/usr/local/lib/python3.7/dist-packages/ipykernel_launcher.py:2: FutureWarning: Possible nested set at position 48\n",
            "  \n"
          ]
        }
      ],
      "source": [
        "pn_regex = \"(([Ss]?[Hh]e|[Ii]t|[Yy]ou[r]?|[Tt]he[ym]|[Ww]e|[[Hh]im|er]))\"\n",
        "x = re.findall(pn_regex,monteCristo)\n",
        "solution = [*set(x)]\n",
        "print(solution)"
      ]
    },
    {
      "cell_type": "markdown",
      "metadata": {
        "id": "YUVttJOu3hV_"
      },
      "source": [
        "\n",
        "Q. 4.  Extract all spoken dialoges from the text file **TheCountOfMonteCristo.txt**\n",
        "\n",
        "[*02 Marks*]\n"
      ]
    },
    {
      "cell_type": "code",
      "execution_count": 7,
      "metadata": {
        "colab": {
          "base_uri": "https://localhost:8080/"
        },
        "id": "hTLKCUA83hWA",
        "outputId": "d5d84544-f9cd-4109-b612-1d618ae44fc8"
      },
      "outputs": [
        {
          "data": {
            "text/plain": [
              "['Ah, is it you, Dantès?',\n",
              " \"What's the matter? and why have you such an air of sadness aboard?\",\n",
              " 'A great misfortune, M. Morrel,',\n",
              " 'a great misfortune, for me especially! Off Civita Vecchia we lost our brave Captain Leclere.',\n",
              " 'And the cargo?',\n",
              " 'Is all safe, M. Morrel; and I think you will be satisfied on that head. But poor Captain Leclere',\n",
              " 'What happened to the worthy captain?',\n",
              " 'He died.',\n",
              " 'Fell into the sea?',\n",
              " 'No, sir, he died of brain-fever in dreadful agony.',\n",
              " 'Bear a hand there, to take in sail!']"
            ]
          },
          "execution_count": 7,
          "metadata": {},
          "output_type": "execute_result"
        }
      ],
      "source": [
        "#Solution to Q. 4.\n",
        "dialogues = '\"(.*?)\"'\n",
        "solution = re.findall(dialogues,monteCristo)\n",
        "solution"
      ]
    },
    {
      "cell_type": "markdown",
      "metadata": {
        "id": "d9FzJDSd3itX"
      },
      "source": [
        "\n",
        "Q. 5.  Extract all sentences having question mark from the text file **TheCountOfMonteCristo.txt**\n",
        "\n",
        "[*02 Marks*]\n"
      ]
    },
    {
      "cell_type": "code",
      "execution_count": 9,
      "metadata": {
        "colab": {
          "base_uri": "https://localhost:8080/"
        },
        "id": "n6MjDyna3ita",
        "outputId": "ddb82b2b-17fb-4b3b-ed39-9b822157efaa"
      },
      "outputs": [
        {
          "data": {
            "text/plain": [
              "['\\n\\n\"Ah, is it you, Dantès?',\n",
              " ' \\n\"What\\'s the matter?',\n",
              " ' and why have you such an air of sadness aboard?',\n",
              " '\"\\n\\n\"And the cargo?',\n",
              " ' But poor Captain Leclere\"\\n\\n\"What happened to him?',\n",
              " ' \\n\"What happened to the worthy captain?',\n",
              " '\"\\n\\n\"Fell into the sea?']"
            ]
          },
          "execution_count": 9,
          "metadata": {},
          "output_type": "execute_result"
        }
      ],
      "source": [
        "#Solution to Q. 5.\n",
        "\n",
        "q = \"[^.!?]+\\?\"\n",
        "solution = re.findall(q,monteCristo)\n",
        "solution"
      ]
    }
  ],
  "metadata": {
    "colab": {
      "name": "CSDL7013_NLP_Lab_3_Regular_Expressions_SH2022.ipynb",
      "provenance": []
    },
    "kernelspec": {
      "display_name": "Python 3",
      "name": "python3"
    },
    "language_info": {
      "name": "python"
    }
  },
  "nbformat": 4,
  "nbformat_minor": 0
}
