{
  "nbformat": 4,
  "nbformat_minor": 0,
  "metadata": {
    "colab": {
      "name": "CSDL7013_NLP_Lab_5_Min_Edit_Distance_SH2022.ipynb",
      "provenance": []
    },
    "kernelspec": {
      "name": "python3",
      "display_name": "Python 3"
    },
    "language_info": {
      "name": "python"
    }
  },
  "cells": [
    {
      "cell_type": "markdown",
      "source": [
        "# CSDL7013 Natural Language Processing Lab 5\n",
        "\n",
        "* NOTE: Prepend your Roll Number to the name of this file"
      ],
      "metadata": {
        "id": "vKeGVu2k8Hmt"
      }
    },
    {
      "cell_type": "markdown",
      "source": [
        "## Minimum Edit Distance\n",
        "\n",
        "1. **Title:**  Minimum Edit Distance\n",
        "\n",
        "2. **Objective/Aim:** To  implement Minimum Edit Distance Algorithm\n",
        "\n",
        "3. **Due Date:** Friday September 09, 2022\n",
        "\n",
        "\n",
        "\n",
        "\n"
      ],
      "metadata": {
        "id": "5xL99s7p8OK4"
      }
    },
    {
      "cell_type": "markdown",
      "source": [
        "### Name : \n",
        "\n",
        "### Roll Number :"
      ],
      "metadata": {
        "id": "u4CzHC3T82GQ"
      }
    },
    {
      "cell_type": "markdown",
      "source": [
        "\n",
        "Q. 1.   Implement the minimum edit distance algorithm in Python, and find out the distances between following pair of words:\n",
        "    \n",
        "    (apple,mango), (there,their), (laughter,daughter), (rain,reign), (right,write)\n",
        "\n",
        "[*03 Marks*]\n"
      ],
      "metadata": {
        "id": "ucoEIFm29CMg"
      }
    },
    {
      "cell_type": "code",
      "execution_count": null,
      "metadata": {
        "id": "3r8fxlBVn1iH"
      },
      "outputs": [],
      "source": [
        "#Solution to Q. 1. "
      ]
    },
    {
      "cell_type": "markdown",
      "source": [
        "\n",
        "Q. 2.   Words with correct spellings are given in the file **bagofwords.txt**, and in the **errordocument.txt**,     each line contains a sentence \n",
        "with few words misspelled.  Find the correct word from the bag of words and replace it and write the corrected sentence in **correcteddocument.txt**\n",
        "\n",
        "\n",
        "[*03 Marks*]\n"
      ],
      "metadata": {
        "id": "WabxvPGl3Cw8"
      }
    },
    {
      "cell_type": "code",
      "execution_count": null,
      "metadata": {
        "id": "6jlGk_ye3Cw9"
      },
      "outputs": [],
      "source": [
        "#Solution to Q. 2. "
      ]
    },
    {
      "cell_type": "markdown",
      "source": [
        "Q. 3. From the file **newtonlaws.txt**, ignoring typical stopwords, generate the bag of words. From the files **answers1.txt** to **answers4.txt**, find out the number of words misspelled and the degree of wrong spelling, and assign a score to that file.  (Think of some relevant metric.)"
      ],
      "metadata": {
        "id": "v668iouz274o"
      }
    },
    {
      "cell_type": "code",
      "source": [
        "#Solution to Q. 3. "
      ],
      "metadata": {
        "id": "zzSFzv_g3KQu"
      },
      "execution_count": null,
      "outputs": []
    }
  ]
}