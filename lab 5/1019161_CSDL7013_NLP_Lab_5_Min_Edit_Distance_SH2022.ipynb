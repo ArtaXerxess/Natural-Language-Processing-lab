{
  "nbformat": 4,
  "nbformat_minor": 0,
  "metadata": {
    "colab": {
      "provenance": []
    },
    "kernelspec": {
      "name": "python3",
      "display_name": "Python 3"
    },
    "language_info": {
      "name": "python"
    }
  },
  "cells": [
    {
      "cell_type": "markdown",
      "source": [
        "# CSDL7013 Natural Language Processing Lab 5\n",
        "\n",
        "* NOTE: Prepend your Roll Number to the name of this file"
      ],
      "metadata": {
        "id": "vKeGVu2k8Hmt"
      }
    },
    {
      "cell_type": "markdown",
      "source": [
        "## Minimum Edit Distance\n",
        "\n",
        "1. **Title:**  Minimum Edit Distance\n",
        "\n",
        "2. **Objective/Aim:** To  implement Minimum Edit Distance Algorithm\n",
        "\n",
        "3. **Due Date:** Friday September 09, 2022\n",
        "\n",
        "\n",
        "\n",
        "\n"
      ],
      "metadata": {
        "id": "5xL99s7p8OK4"
      }
    },
    {
      "cell_type": "markdown",
      "source": [
        "### Name : Harshvardhan Singh\n",
        "\n",
        "### Roll Number : 1019161"
      ],
      "metadata": {
        "id": "u4CzHC3T82GQ"
      }
    },
    {
      "cell_type": "markdown",
      "source": [
        "\n",
        "Q. 1.   Implement the minimum edit distance algorithm in Python, and find out the distances between following pair of words:\n",
        "    \n",
        "    (apple,mango), (there,their), (laughter,daughter), (rain,reign), (right,write)\n",
        "\n",
        "[*03 Marks*]\n"
      ],
      "metadata": {
        "id": "ucoEIFm29CMg"
      }
    },
    {
      "cell_type": "code",
      "execution_count": null,
      "metadata": {
        "id": "3r8fxlBVn1iH"
      },
      "outputs": [],
      "source": [
        "import re\n",
        "\n",
        "def editDist(a, b):\n",
        "  m = len(a)\n",
        "  n = len(b)\n",
        "  dp = [[0] * (n + 1) for _ in range(m + 1)]\n",
        "  for i in range(m + 1):\n",
        "    for j in range(n + 1):\n",
        "      if i == 0:\n",
        "        dp[i][j] = j\n",
        "      elif j == 0:\n",
        "        dp[i][j] = i\n",
        "      else:\n",
        "        k = 1\n",
        "        if a[i - 1] == b[j - 1]:\n",
        "          k = 0\n",
        "        dp[i][j] = min(dp[i - 1][j - 1] + k, dp[i - 1][j] + 1, dp[i][j - 1] + 1)\n",
        "  return dp[m][n]"
      ]
    },
    {
      "cell_type": "code",
      "source": [
        "for a, b in [(\"apple\", \"mango\"), (\"there\", \"their\"), (\"laughter\", \"daughter\"), (\"rain\", \"reign\"), (\"right\", \"write\")]:\n",
        "  print(f\"dist({a}, {b}) = {editDist(a, b)}\")"
      ],
      "metadata": {
        "colab": {
          "base_uri": "https://localhost:8080/"
        },
        "id": "-2uR97AO1NDH",
        "outputId": "2b43433a-7a44-4dda-bd5a-5beff4971d69"
      },
      "execution_count": null,
      "outputs": [
        {
          "output_type": "stream",
          "name": "stdout",
          "text": [
            "dist(apple, mango) = 5\n",
            "dist(there, their) = 2\n",
            "dist(laughter, daughter) = 1\n",
            "dist(rain, reign) = 2\n",
            "dist(right, write) = 4\n"
          ]
        }
      ]
    },
    {
      "cell_type": "markdown",
      "source": [
        "\n",
        "Q. 2.   Words with correct spellings are given in the file **bagofwords.txt**, and in the **errordocument.txt**,     each line contains a sentence \n",
        "with few words misspelled.  Find the correct word from the bag of words and replace it and write the corrected sentence in **correcteddocument.txt**\n",
        "\n",
        "\n",
        "[*03 Marks*]\n"
      ],
      "metadata": {
        "id": "WabxvPGl3Cw8"
      }
    },
    {
      "cell_type": "code",
      "source": [
        "def getClosest(words, target):\n",
        "  return min(words, key = lambda w: editDist(w.lower(), target.lower()))"
      ],
      "metadata": {
        "id": "Kca6iajz_v7B"
      },
      "execution_count": null,
      "outputs": []
    },
    {
      "cell_type": "code",
      "source": [
        "def fix(content, words):\n",
        "  corrected = content\n",
        "  for word in re.findall(\"\\w+\", content):\n",
        "    correction = getClosest(words, word)\n",
        "    if word.lower() != correction.lower():\n",
        "      corrected = re.sub(word, correction, corrected)\n",
        "  return corrected"
      ],
      "metadata": {
        "id": "QAZ15EiyCs37"
      },
      "execution_count": null,
      "outputs": []
    },
    {
      "cell_type": "code",
      "execution_count": null,
      "metadata": {
        "id": "6jlGk_ye3Cw9"
      },
      "outputs": [],
      "source": [
        "words = open(\"Data/bagofwords.txt\").read().split()\n",
        "content = open(\"Data/errordocument.txt\").read()\n",
        "res = open(\"Data/correcteddocument.txt\", \"a\")\n",
        "corrected = fix(content, words)\n",
        "res.write(corrected)\n",
        "res.close()"
      ]
    },
    {
      "cell_type": "markdown",
      "source": [
        "Q. 3. From the file **newtonlaws.txt**, ignoring typical stopwords, generate the bag of words. From the files **answers1.txt** to **answers4.txt**, find out the number of words misspelled and the degree of wrong spelling, and assign a score to that file.  (Think of some relevant metric.)"
      ],
      "metadata": {
        "id": "v668iouz274o"
      }
    },
    {
      "cell_type": "code",
      "source": [
        "content = open(\"Data/newtonlaws.txt\").read()\n",
        "words = re.findall(\"\\w+\", content)\n",
        "for file in [\"answers1.txt\", \"answers2.txt\", \"answers3.txt\", \"answers4.txt\"]:\n",
        "  print(file)\n",
        "  print(\"=\" * len(file))\n",
        "  currcontent = open(f\"Data/{file}\").read()\n",
        "  currwords = re.findall(\"\\w+\", currcontent)\n",
        "  degree = 0\n",
        "  ctr = 0\n",
        "  numwords = len(currwords)\n",
        "  for w in currwords:\n",
        "    if w.lower() not in {'a', 'the', 'is'}:\n",
        "      correct = getClosest(words, w)\n",
        "      diff = editDist(w.lower(), correct.lower())\n",
        "      degree += diff\n",
        "      if diff > 0:\n",
        "        ctr += 1\n",
        "  print(f\"Mispelled Words: {ctr}\")\n",
        "  print(f\"Degree of wrong spelling: {degree}\")\n",
        "  print(f\"Score: {100 * (numwords - ctr) / (numwords):.4g}\")\n",
        "  print()"
      ],
      "metadata": {
        "id": "zzSFzv_g3KQu",
        "colab": {
          "base_uri": "https://localhost:8080/"
        },
        "outputId": "4eb5a21f-73eb-4353-b45d-05c7930a9429"
      },
      "execution_count": null,
      "outputs": [
        {
          "output_type": "stream",
          "name": "stdout",
          "text": [
            "answers1.txt\n",
            "============\n",
            "Mispelled Words: 5\n",
            "Degree of wrong spelling: 5\n",
            "Score: 83.33\n",
            "\n",
            "answers2.txt\n",
            "============\n",
            "Mispelled Words: 11\n",
            "Degree of wrong spelling: 11\n",
            "Score: 63.33\n",
            "\n",
            "answers3.txt\n",
            "============\n",
            "Mispelled Words: 9\n",
            "Degree of wrong spelling: 10\n",
            "Score: 70\n",
            "\n",
            "answers4.txt\n",
            "============\n",
            "Mispelled Words: 4\n",
            "Degree of wrong spelling: 4\n",
            "Score: 86.67\n",
            "\n"
          ]
        }
      ]
    }
  ]
}