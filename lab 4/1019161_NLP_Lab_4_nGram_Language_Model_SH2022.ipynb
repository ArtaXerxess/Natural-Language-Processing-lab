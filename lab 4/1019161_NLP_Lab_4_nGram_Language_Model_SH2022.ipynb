{
  "nbformat": 4,
  "nbformat_minor": 0,
  "metadata": {
    "colab": {
      "name": "1019161_NLP_Lab_4_nGram_Language_Model_SH2022.ipynb",
      "provenance": [],
      "collapsed_sections": []
    },
    "kernelspec": {
      "name": "python3",
      "display_name": "Python 3"
    },
    "language_info": {
      "name": "python"
    }
  },
  "cells": [
    {
      "cell_type": "markdown",
      "source": [
        "# CSDL7013 Natural Language Processing Lab 4\n",
        "\n",
        "* NOTE: Prepend your Roll Number to the name of this file"
      ],
      "metadata": {
        "id": "vKeGVu2k8Hmt"
      }
    },
    {
      "cell_type": "markdown",
      "source": [
        "## Regular Expressions\n",
        "\n",
        "1. **Title:** n-gram language model\n",
        "\n",
        "2. **Objective/Aim:** To  generate n-gram language model\n",
        "\n",
        "3. **Due Date:** Friday August 19, 2022 \n",
        "\n",
        "\n",
        "\n",
        "\n"
      ],
      "metadata": {
        "id": "5xL99s7p8OK4"
      }
    },
    {
      "cell_type": "markdown",
      "source": [
        "### Name : Harshvardhan Singh\n",
        "\n",
        "### Roll Number : 1019161"
      ],
      "metadata": {
        "id": "u4CzHC3T82GQ"
      }
    },
    {
      "cell_type": "markdown",
      "source": [
        "\n",
        "Q. 1.  Read the file **survey.txt** given, generate the trigram model. Consider each sentence separately.\n",
        "\n",
        "[*02 Marks*]\n"
      ],
      "metadata": {
        "id": "ucoEIFm29CMg"
      }
    },
    {
      "cell_type": "code",
      "execution_count": 7,
      "metadata": {
        "id": "3r8fxlBVn1iH",
        "colab": {
          "base_uri": "https://localhost:8080/"
        },
        "outputId": "3a39a303-6d11-41be-865e-786b233d9088"
      },
      "outputs": [
        {
          "output_type": "stream",
          "name": "stdout",
          "text": [
            "('I', 'like', 'biryani')\n",
            "('I', 'like', 'cake')\n",
            "('I', 'like', 'chocolate')\n",
            "('I', 'like', 'biryani')\n",
            "('I', 'get', 'water')\n",
            "('I', 'get', 'lassi')\n",
            "('I', 'get', 'eggs')\n",
            "('I', 'get', 'dosa')\n",
            "('I', 'get', 'idli')\n",
            "('I', 'like', 'apple')\n",
            "('I', 'like', 'mango')\n",
            "('I', 'like', 'biryani')\n",
            "('I', 'like', 'cake')\n",
            "('I', 'like', 'chocolate')\n",
            "('I', 'like', 'biryani')\n",
            "('I', 'want', 'orange')\n",
            "('I', 'want', 'wadapav')\n",
            "('I', 'want', 'water')\n",
            "('I', 'want', 'lassi')\n",
            "('I', 'want', 'eggs')\n",
            "('I', 'like', 'apple')\n",
            "('I', 'like', 'banana')\n",
            "('I', 'like', 'milk')\n",
            "('I', 'like', 'coffee')\n",
            "('I', 'want', 'orange')\n",
            "('I', 'want', 'wadapav')\n",
            "('I', 'want', 'water')\n",
            "('I', 'want', 'lassi')\n",
            "('I', 'want', 'eggs')\n",
            "('I', 'get', 'water')\n",
            "('I', 'get', 'lassi')\n",
            "('I', 'get', 'eggs')\n",
            "('I', 'get', 'dosa')\n",
            "('I', 'get', 'idli')\n",
            "('I', 'like', 'biryani')\n",
            "('I', 'like', 'cake')\n",
            "('I', 'want', 'orange')\n",
            "('I', 'want', 'wadapav')\n",
            "('I', 'want', 'water')\n",
            "('I', 'want', 'lassi')\n",
            "('I', 'want', 'eggs')\n",
            "('I', 'like', 'chocolate')\n",
            "('I', 'like', 'biryani')\n",
            "('I', 'like', 'apple')\n",
            "('I', 'like', 'pulav')\n",
            "('I', 'like', 'dhokla')\n",
            "('I', 'want', 'orange')\n",
            "('I', 'want', 'wadapav')\n",
            "('I', 'get', 'apple')\n",
            "('I', 'get', 'biryani')\n",
            "('I', 'get', 'water')\n",
            "('I', 'get', 'lassi')\n",
            "('I', 'get', 'water')\n",
            "('I', 'get', 'lassi')\n",
            "('I', 'get', 'eggs')\n",
            "('I', 'get', 'dosa')\n",
            "('I', 'get', 'idli')\n",
            "('I', 'get', 'eggs')\n",
            "('I', 'get', 'dosa')\n",
            "('I', 'get', 'idli')\n",
            "('I', 'get', 'wadapav')\n",
            "('I', 'want', 'water')\n",
            "('I', 'want', 'lassi')\n",
            "('I', 'want', 'eggs')\n",
            "('I', 'like', 'idli')\n",
            "('I', 'like', 'dosa')\n",
            "('I', 'like', 'tea')\n",
            "('I', 'like', 'idli')\n",
            "('I', 'like', 'apple')\n",
            "('I', 'like', 'mango')\n",
            "('I', 'get', 'water')\n",
            "('I', 'get', 'lassi')\n",
            "('I', 'get', 'eggs')\n",
            "('I', 'get', 'dosa')\n",
            "('I', 'get', 'idli')\n",
            "('I', 'like', 'banana')\n",
            "('I', 'like', 'milk')\n",
            "('I', 'want', 'coffee')\n",
            "('I', 'want', 'orange')\n",
            "('I', 'want', 'wadapav')\n",
            "('I', 'want', 'water')\n",
            "('I', 'want', 'lassi')\n",
            "('I', 'want', 'eggs')\n",
            "('I', 'want', 'biryani')\n",
            "('I', 'want', 'pulav')\n",
            "('I', 'want', 'chocolate')\n",
            "('I', 'want', 'guava')\n",
            "('I', 'want', 'orange')\n",
            "('I', 'want', 'wadapav')\n",
            "('I', 'want', 'water')\n",
            "('I', 'want', 'lassi')\n",
            "('I', 'want', 'eggs')\n",
            "('I', 'like', 'coffee')\n",
            "('I', 'like', 'pulav')\n",
            "('I', 'like', 'dhokla')\n",
            "('I', 'like', 'apple')\n",
            "('I', 'like', 'mango')\n",
            "('I', 'get', 'water')\n",
            "('I', 'get', 'lassi')\n",
            "('I', 'get', 'eggs')\n",
            "('I', 'get', 'dosa')\n",
            "('I', 'get', 'idli')\n",
            "('I', 'like', 'banana')\n",
            "('I', 'like', 'milk')\n",
            "('I', 'want', 'orange')\n",
            "('I', 'want', 'wadapav')\n",
            "('I', 'want', 'water')\n",
            "('I', 'want', 'lassi')\n",
            "('I', 'want', 'eggs')\n",
            "('I', 'like', 'coffee')\n",
            "('I', 'want', 'orange')\n",
            "('I', 'want', 'wadapav')\n",
            "('I', 'want', 'water')\n",
            "('I', 'want', 'lassi')\n",
            "('I', 'get', 'water')\n",
            "('I', 'get', 'lassi')\n",
            "('I', 'get', 'eggs')\n",
            "('I', 'get', 'dosa')\n",
            "('I', 'get', 'idli')\n",
            "('I', 'want', 'eggs')\n",
            "('I', 'like', 'pulav')\n",
            "('I', 'like', 'dhokla')\n",
            "('I', 'like', 'apple')\n",
            "('I', 'like', 'mango')\n",
            "('I', 'like', 'banana')\n",
            "('I', 'like', 'milk')\n",
            "('I', 'want', 'orange')\n",
            "('I', 'want', 'wadapav')\n",
            "('I', 'want', 'water')\n",
            "('I', 'want', 'lassi')\n",
            "('I', 'want', 'eggs')\n",
            "('I', 'like', 'coffee')\n",
            "('I', 'like', 'pulav')\n",
            "('I', 'like', 'dhokla')\n",
            "('I', 'get', 'water')\n",
            "('I', 'get', 'lassi')\n",
            "('I', 'get', 'eggs')\n",
            "('I', 'get', 'dosa')\n",
            "('I', 'get', 'idli')\n",
            "('I', 'want', 'orange')\n",
            "('I', 'want', 'wadapav')\n",
            "('I', 'want', 'water')\n",
            "('I', 'want', 'lassi')\n",
            "('I', 'want', 'eggs')\n"
          ]
        }
      ],
      "source": [
        "#Solution to Q. 1. \n",
        "from nltk import ngrams\n",
        "with open(\"survey.txt\",'r') as sr:\n",
        "  sentences = sr.read()\n",
        "  sr.close()\n",
        "sentences = sentences.split(\"\\n\")\n",
        "for sentence in sentences:\n",
        "  # print(\"trigram model for \\\"\",sentence,\"\\\":\")\n",
        "  trigrams = ngrams(sentence.split(),n=3)\n",
        "  for gram in trigrams:\n",
        "    print(gram)"
      ]
    },
    {
      "cell_type": "code",
      "source": [
        "file = open('survey.txt', 'r')\n",
        "read_data = file.read()\n",
        "count_occur = read_data.count(\"I want\")\n",
        "occurrences = read_data.count(\"I want water\")\n",
        "print('Number of I want  :', count_occur)\n",
        "print('Number of I want wanter :', occurrences)\n",
        "prob = occurrences/count_occur\n",
        "print(prob)"
      ],
      "metadata": {
        "colab": {
          "base_uri": "https://localhost:8080/"
        },
        "id": "gK7IMRxUrnYV",
        "outputId": "8a772164-1ea3-43fc-ba1b-4b4e911bbe47"
      },
      "execution_count": null,
      "outputs": [
        {
          "output_type": "stream",
          "name": "stdout",
          "text": [
            "Number of I want  : 55\n",
            "Number of I want wanter : 10\n",
            "0.18181818181818182\n"
          ]
        }
      ]
    },
    {
      "cell_type": "markdown",
      "source": [
        "\n",
        "Q. 2.  Read the given text files, remove all punctuation symbols, change all words to small case, generate trigram model for each one of them.\n",
        "\n",
        "[*08 Marks*]\n"
      ],
      "metadata": {
        "id": "WabxvPGl3Cw8"
      }
    },
    {
      "cell_type": "code",
      "execution_count": 3,
      "metadata": {
        "id": "6jlGk_ye3Cw9",
        "colab": {
          "base_uri": "https://localhost:8080/"
        },
        "outputId": "7281f3df-0fb0-4e78-b86e-401edd445908"
      },
      "outputs": [
        {
          "output_type": "stream",
          "name": "stdout",
          "text": [
            "Enter filename: madteaparty.txt\n",
            "Removed punctuations from the file madteaparty.txt\n"
          ]
        }
      ],
      "source": [
        "#Solution to Q. 2. \n",
        "filename = input(\"Enter filename: \")\n",
        "def remove_punc(string):\n",
        "    punc = '''!()-[]{};:'\"\\, <>./?@#$%^&*_~'''\n",
        "    for ele in string:  \n",
        "        if ele in punc:  \n",
        "            string = string.replace(ele, \"\") \n",
        "    return string\n",
        "try:\n",
        "    with open(filename,'r',encoding=\"utf-8\") as f:\n",
        "        data = f.read()\n",
        "    with open(filename,\"w+\",encoding=\"utf-8\") as f:\n",
        "        f.write(remove_punc(data))\n",
        "    print(\"Removed punctuations from the file\", filename)\n",
        "except FileNotFoundError:\n",
        "    print(\"File not found\")"
      ]
    },
    {
      "cell_type": "code",
      "source": [
        "file = open('madteaparty.txt', 'rt').read().lower()\n",
        "file"
      ],
      "metadata": {
        "colab": {
          "base_uri": "https://localhost:8080/",
          "height": 156
        },
        "id": "XAU-MZRehDSE",
        "outputId": "38f54053-2f75-4806-a04d-692999f1bf4e"
      },
      "execution_count": 4,
      "outputs": [
        {
          "output_type": "execute_result",
          "data": {
            "text/plain": [
              "'youshouldlearnnottomakepersonalremarksalicesaidwithsomeseverityitsveryrude\\nthehatteropenedhiseyesverywideonhearingthisbutallhesaidwaswhyisaravenlikeawritingdesk\\ncomeweshallhavesomefunnowthoughtaliceimgladtheyvebegunaskingriddlesibelieveicanguessthatsheaddedaloud\\ndoyoumeanthatyouthinkyoucanfindouttheanswertoitsaidthemarchhare\\nexactlysosaidalice\\nthenyoushouldsaywhatyoumeanthemarchharewenton\\nidoalicehastilyrepliedatleastatleastimeanwhatisaythatsthesamethingyouknow\\nnotthesamethingabitsaidthehatteryoumightjustaswellsaythatiseewhatieatisthesamethingasieatwhatisee\\nyoumightjustaswellsayaddedthemarchharethatilikewhatigetisthesamethingasigetwhatilike\\nyoumightjustaswellsayaddedthedormousewhoseemedtobetalkinginhissleepthatibreathewhenisleepisthesamethingasisleepwhenibreathe\\nitisthesamethingwithyousaidthehatterandheretheconversationdroppedandthepartysatsilentforaminutewhilealicethoughtoverallshecouldrememberaboutravensandwritingdeskswhichwasntmuch'"
            ],
            "application/vnd.google.colaboratory.intrinsic+json": {
              "type": "string"
            }
          },
          "metadata": {},
          "execution_count": 4
        }
      ]
    }
  ]
}