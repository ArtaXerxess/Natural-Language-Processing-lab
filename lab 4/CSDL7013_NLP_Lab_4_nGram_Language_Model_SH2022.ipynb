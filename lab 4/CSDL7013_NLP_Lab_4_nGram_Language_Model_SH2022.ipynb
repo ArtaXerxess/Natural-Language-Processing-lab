{
  "nbformat": 4,
  "nbformat_minor": 0,
  "metadata": {
    "colab": {
      "name": "CSDL7013_NLP_Lab_4_nGram_Language_Model_SH2022.ipynb",
      "provenance": []
    },
    "kernelspec": {
      "name": "python3",
      "display_name": "Python 3"
    },
    "language_info": {
      "name": "python"
    }
  },
  "cells": [
    {
      "cell_type": "markdown",
      "source": [
        "# CSDL7013 Natural Language Processing Lab 4\n",
        "\n",
        "* NOTE: Prepend your Roll Number to the name of this file"
      ],
      "metadata": {
        "id": "vKeGVu2k8Hmt"
      }
    },
    {
      "cell_type": "markdown",
      "source": [
        "## Regular Expressions\n",
        "\n",
        "1. **Title:** n-gram language model\n",
        "\n",
        "2. **Objective/Aim:** To  generate n-gram language model\n",
        "\n",
        "3. **Due Date:** Friday August 19, 2022 \n",
        "\n",
        "\n",
        "\n",
        "\n"
      ],
      "metadata": {
        "id": "5xL99s7p8OK4"
      }
    },
    {
      "cell_type": "markdown",
      "source": [
        "### Name : \n",
        "\n",
        "### Roll Number :"
      ],
      "metadata": {
        "id": "u4CzHC3T82GQ"
      }
    },
    {
      "cell_type": "markdown",
      "source": [
        "\n",
        "Q. 1.  Read the file **survey.txt** given, generate the trigram model. Consider each sentence separately.\n",
        "\n",
        "[*02 Marks*]\n"
      ],
      "metadata": {
        "id": "ucoEIFm29CMg"
      }
    },
    {
      "cell_type": "code",
      "execution_count": null,
      "metadata": {
        "id": "3r8fxlBVn1iH"
      },
      "outputs": [],
      "source": [
        "#Solution to Q. 1. "
      ]
    },
    {
      "cell_type": "markdown",
      "source": [
        "\n",
        "Q. 2.  Read the given text files, remove all punctuation symbols, change all words to small case, generate trigram model for each one of them.\n",
        "\n",
        "[*08 Marks*]\n"
      ],
      "metadata": {
        "id": "WabxvPGl3Cw8"
      }
    },
    {
      "cell_type": "code",
      "execution_count": null,
      "metadata": {
        "id": "6jlGk_ye3Cw9"
      },
      "outputs": [],
      "source": [
        "#Solution to Q. 2. "
      ]
    }
  ]
}