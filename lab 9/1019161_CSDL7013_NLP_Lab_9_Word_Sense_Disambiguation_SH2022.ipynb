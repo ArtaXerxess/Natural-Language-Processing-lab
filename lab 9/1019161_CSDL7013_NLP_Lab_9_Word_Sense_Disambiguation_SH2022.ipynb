{
  "nbformat": 4,
  "nbformat_minor": 0,
  "metadata": {
    "colab": {
      "provenance": []
    },
    "kernelspec": {
      "name": "python3",
      "display_name": "Python 3"
    },
    "language_info": {
      "name": "python"
    }
  },
  "cells": [
    {
      "cell_type": "markdown",
      "source": [
        "# CSDL7013 Natural Language Processing Lab 9\n",
        "\n",
        "* NOTE: Prepend your Roll Number to the name of this file\n",
        "\n",
        "* YET ANOTHER NOTE: Take print out of the relevant code cells only."
      ],
      "metadata": {
        "id": "vKeGVu2k8Hmt"
      }
    },
    {
      "cell_type": "markdown",
      "source": [
        "## Word Sense Disambiguation Lab\n",
        "\n",
        "1. **Title:**  Word Sense Disambiguation\n",
        "\n",
        "2. **Objective/Aim:** To  illustrate Word Sense Disambiguation in a given Document\n",
        "\n",
        "3. **Due Date:** Friday October 07, 2022 \n",
        "\n",
        "\n",
        "\n",
        "\n"
      ],
      "metadata": {
        "id": "5xL99s7p8OK4"
      }
    },
    {
      "cell_type": "markdown",
      "source": [
        "### Name : Harshvardhan Singh\n",
        "\n",
        "### Roll Number : 1019161"
      ],
      "metadata": {
        "id": "u4CzHC3T82GQ"
      }
    },
    {
      "cell_type": "markdown",
      "source": [
        "### Setup Wordnet interaction"
      ],
      "metadata": {
        "id": "YBtYaICB0JUs"
      }
    },
    {
      "cell_type": "code",
      "execution_count": 1,
      "metadata": {
        "id": "q8jnwlEPwhqa",
        "colab": {
          "base_uri": "https://localhost:8080/"
        },
        "outputId": "a6dfe9b7-52b2-4866-b6d2-5d361b605ca0"
      },
      "outputs": [
        {
          "output_type": "stream",
          "name": "stderr",
          "text": [
            "[nltk_data] Downloading package wordnet to /root/nltk_data...\n",
            "[nltk_data]   Package wordnet is already up-to-date!\n",
            "[nltk_data] Downloading package omw-1.4 to /root/nltk_data...\n",
            "[nltk_data]   Package omw-1.4 is already up-to-date!\n"
          ]
        }
      ],
      "source": [
        "import nltk\n",
        "nltk.download('wordnet')\n",
        "nltk.download('omw-1.4')\n",
        "from nltk.corpus import wordnet as wn\n",
        "from nltk.wsd import lesk\n",
        "from sklearn.feature_extraction.text import CountVectorizer\n",
        "from sklearn.feature_extraction.text import TfidfVectorizer\n",
        "import pandas as pd\n",
        "from sklearn.metrics.pairwise import cosine_similarity\n"
      ]
    },
    {
      "cell_type": "markdown",
      "source": [
        "### Play around with glosses"
      ],
      "metadata": {
        "id": "tWWczKlD0Xil"
      }
    },
    {
      "cell_type": "code",
      "source": [
        "for ss in wn.synsets('liturgy'):\n",
        "  print(ss, ss.definition())"
      ],
      "metadata": {
        "id": "F0dkXw-p0bnH",
        "colab": {
          "base_uri": "https://localhost:8080/"
        },
        "outputId": "0d3215fc-000a-4ed9-f48d-997418e85f5d"
      },
      "execution_count": 2,
      "outputs": [
        {
          "output_type": "stream",
          "name": "stdout",
          "text": [
            "Synset('holy_eucharist.n.01') a Christian sacrament commemorating the Last Supper by consecrating bread and wine\n",
            "Synset('liturgy.n.02') a rite or body of rites prescribed for public worship\n"
          ]
        }
      ]
    },
    {
      "cell_type": "code",
      "source": [
        "[(s, s.pos(),s.definition()) for s in wn.synsets('parliament')]"
      ],
      "metadata": {
        "id": "R5lH9raE0ki3",
        "colab": {
          "base_uri": "https://localhost:8080/"
        },
        "outputId": "d75e5e1c-2b11-4dd8-ccee-8208e3555ac1"
      },
      "execution_count": 3,
      "outputs": [
        {
          "output_type": "execute_result",
          "data": {
            "text/plain": [
              "[(Synset('parliament.n.01'),\n",
              "  'n',\n",
              "  'a legislative assembly in certain countries'),\n",
              " (Synset('fantan.n.02'),\n",
              "  'n',\n",
              "  'a card game in which you play your sevens and other cards in sequence in the same suit as the sevens; you win if you are the first to use all your cards')]"
            ]
          },
          "metadata": {},
          "execution_count": 3
        }
      ]
    },
    {
      "cell_type": "markdown",
      "source": [
        "### Check Lesk Algorithm"
      ],
      "metadata": {
        "id": "2wW41sIT1NEM"
      }
    },
    {
      "cell_type": "code",
      "source": [
        "# Set up sentence\n",
        "\n",
        "message = \"Your mission, should you choose to accept, is to complete this assignment and burn it.\"\n",
        "split_message = message.split()"
      ],
      "metadata": {
        "id": "0ak_aYOJ1SSP"
      },
      "execution_count": 4,
      "outputs": []
    },
    {
      "cell_type": "code",
      "source": [
        "# Check the gloss of the word under consideration\n",
        "\n",
        "\n",
        "[(s, s.pos(),s.definition()) for s in wn.synsets('burn')]"
      ],
      "metadata": {
        "id": "t8tB66zZ5LdC",
        "colab": {
          "base_uri": "https://localhost:8080/"
        },
        "outputId": "b0fa72ce-ea5a-4502-d8b0-f3ad35313ab3"
      },
      "execution_count": 5,
      "outputs": [
        {
          "output_type": "execute_result",
          "data": {
            "text/plain": [
              "[(Synset('burn.n.01'), 'n', 'pain that feels hot as if it were on fire'),\n",
              " (Synset('tan.n.01'),\n",
              "  'n',\n",
              "  'a browning of the skin resulting from exposure to the rays of the sun'),\n",
              " (Synset('burn.n.03'),\n",
              "  'n',\n",
              "  'an injury caused by exposure to heat or chemicals or radiation'),\n",
              " (Synset('burn.n.04'),\n",
              "  'n',\n",
              "  \"a place or area that has been burned (especially on a person's body)\"),\n",
              " (Synset('burn.n.05'), 'n', 'damage inflicted by fire'),\n",
              " (Synset('burn.v.01'), 'v', 'destroy by fire'),\n",
              " (Synset('burn.v.02'), 'v', 'shine intensely, as if with heat'),\n",
              " (Synset('burn.v.03'), 'v', 'undergo combustion'),\n",
              " (Synset('bite.v.02'), 'v', 'cause a sharp or stinging pain or discomfort'),\n",
              " (Synset('burn.v.05'), 'v', 'cause to burn or combust'),\n",
              " (Synset('burn.v.06'),\n",
              "  'v',\n",
              "  'feel strong emotion, especially anger or passion'),\n",
              " (Synset('burn.v.07'), 'v', 'cause to undergo combustion'),\n",
              " (Synset('burn.v.08'), 'v', 'burn at the stake'),\n",
              " (Synset('burn.v.09'), 'v', 'spend (significant amounts of money)'),\n",
              " (Synset('burn.v.10'), 'v', 'feel hot or painful'),\n",
              " (Synset('cauterize.v.01'),\n",
              "  'v',\n",
              "  'burn, sear, or freeze (tissue) using a hot iron or electric current or a caustic agent'),\n",
              " (Synset('sunburn.v.01'), 'v', 'get a sunburn by overexposure to the sun'),\n",
              " (Synset('cut.v.21'), 'v', 'create by duplicating data'),\n",
              " (Synset('burn_off.v.01'), 'v', 'use up (energy)'),\n",
              " (Synset('burn.v.15'), 'v', 'burn with heat, fire, or radiation')]"
            ]
          },
          "metadata": {},
          "execution_count": 5
        }
      ]
    },
    {
      "cell_type": "code",
      "source": [
        "# Perform WSD using inbuilt Lesk Algorithm\n",
        "\n",
        "print(lesk(split_message, 'burn'))"
      ],
      "metadata": {
        "id": "qflEUTz44Nsl",
        "colab": {
          "base_uri": "https://localhost:8080/"
        },
        "outputId": "978767d3-6c4c-4039-9734-30ad336891ec"
      },
      "execution_count": 6,
      "outputs": [
        {
          "output_type": "stream",
          "name": "stdout",
          "text": [
            "Synset('burn.v.05')\n"
          ]
        }
      ]
    },
    {
      "cell_type": "markdown",
      "source": [
        "### Illustrate your own Lesk Algorithm"
      ],
      "metadata": {
        "id": "M0CBNvdQCy1n"
      }
    },
    {
      "cell_type": "code",
      "source": [
        "sent = \"The moment he touched the cricket pitch, raised his bat to face the ball, he went for a duck\""
      ],
      "metadata": {
        "id": "BComEqgR_rQa"
      },
      "execution_count": 7,
      "outputs": []
    },
    {
      "cell_type": "code",
      "source": [
        "# # Create the Document Term Matrix\n",
        "vectorizer = CountVectorizer(stop_words='english')\n",
        "#vectorizer = TfidfVectorizer(stop_words='english') # Use any one.\n",
        "doc1 = sent\n",
        "for ss in wn.synsets('duck'):\n",
        "  doc2 = ss.definition()\n",
        "  print(ss, doc2)\n",
        "  documents = [doc1,doc2]\n",
        "  sparse_matrix = vectorizer.fit_transform(documents)\n",
        "  doc_term_matrix = sparse_matrix.todense()\n",
        "  df = pd.DataFrame(doc_term_matrix, \n",
        "                  columns=vectorizer.get_feature_names_out(), \n",
        "                  index=['Test Sentence','Definition'])\n",
        "  print(df)\n",
        "  print(cosine_similarity(df, df))\n",
        "\n"
      ],
      "metadata": {
        "id": "WqpQg0lD_8zB",
        "colab": {
          "base_uri": "https://localhost:8080/"
        },
        "outputId": "688b1b2f-dc84-4356-efa1-3a749b423a77"
      },
      "execution_count": 8,
      "outputs": [
        {
          "output_type": "stream",
          "name": "stdout",
          "text": [
            "Synset('duck.n.01') small wild or domesticated web-footed broad-billed swimming bird usually having a depressed body and short legs\n",
            "               ball  bat  billed  bird  body  broad  cricket  depressed  \\\n",
            "Test Sentence     1    1       0     0     0      0        1          0   \n",
            "Definition        0    0       1     1     1      1        0          1   \n",
            "\n",
            "               domesticated  duck  ...  pitch  raised  short  small  swimming  \\\n",
            "Test Sentence             0     1  ...      1       1      0      0         0   \n",
            "Definition                1     0  ...      0       0      1      1         1   \n",
            "\n",
            "               touched  usually  web  went  wild  \n",
            "Test Sentence        1        0    0     1     0  \n",
            "Definition           0        1    1     0     1  \n",
            "\n",
            "[2 rows x 25 columns]\n",
            "[[1. 0.]\n",
            " [0. 1.]]\n",
            "Synset('duck.n.02') (cricket) a score of nothing by a batsman\n",
            "               ball  bat  batsman  cricket  duck  face  moment  pitch  raised  \\\n",
            "Test Sentence     1    1        0        1     1     1       1      1       1   \n",
            "Definition        0    0        1        1     0     0       0      0       0   \n",
            "\n",
            "               score  touched  went  \n",
            "Test Sentence      0        1     1  \n",
            "Definition         1        0     0  \n",
            "[[1.         0.18257419]\n",
            " [0.18257419 1.        ]]\n",
            "Synset('duck.n.03') flesh of a duck (domestic or wild)\n",
            "               ball  bat  cricket  domestic  duck  face  flesh  moment  pitch  \\\n",
            "Test Sentence     1    1        1         0     1     1      0       1      1   \n",
            "Definition        0    0        0         1     1     0      1       0      0   \n",
            "\n",
            "               raised  touched  went  wild  \n",
            "Test Sentence       1        1     1     0  \n",
            "Definition          0        0     0     1  \n",
            "[[1.         0.15811388]\n",
            " [0.15811388 1.        ]]\n",
            "Synset('duck.n.04') a heavy cotton fabric of plain weave; used for clothing and tents\n",
            "               ball  bat  clothing  cotton  cricket  duck  fabric  face  \\\n",
            "Test Sentence     1    1         0       0        1     1       0     1   \n",
            "Definition        0    0         1       1        0     0       1     0   \n",
            "\n",
            "               heavy  moment  pitch  plain  raised  tents  touched  used  \\\n",
            "Test Sentence      0       1      1      0       1      0        1     0   \n",
            "Definition         1       0      0      1       0      1        0     1   \n",
            "\n",
            "               weave  went  \n",
            "Test Sentence      0     1  \n",
            "Definition         1     0  \n",
            "[[1. 0.]\n",
            " [0. 1.]]\n",
            "Synset('duck.v.01') to move (the head or body) quickly downwards or away\n",
            "               away  ball  bat  body  cricket  downwards  duck  face  head  \\\n",
            "Test Sentence     0     1    1     0        1          0     1     1     0   \n",
            "Definition        1     0    0     1        0          1     0     0     1   \n",
            "\n",
            "               moment  pitch  quickly  raised  touched  went  \n",
            "Test Sentence       1      1        0       1        1     1  \n",
            "Definition          0      0        1       0        0     0  \n",
            "[[1. 0.]\n",
            " [0. 1.]]\n",
            "Synset('duck.v.02') submerge or plunge suddenly\n",
            "               ball  bat  cricket  duck  face  moment  pitch  plunge  raised  \\\n",
            "Test Sentence     1    1        1     1     1       1      1       0       1   \n",
            "Definition        0    0        0     0     0       0      0       1       0   \n",
            "\n",
            "               submerge  suddenly  touched  went  \n",
            "Test Sentence         0         0        1     1  \n",
            "Definition            1         1        0     0  \n",
            "[[1. 0.]\n",
            " [0. 1.]]\n",
            "Synset('dip.v.10') dip into a liquid\n",
            "               ball  bat  cricket  dip  duck  face  liquid  moment  pitch  \\\n",
            "Test Sentence     1    1        1    0     1     1       0       1      1   \n",
            "Definition        0    0        0    1     0     0       1       0      0   \n",
            "\n",
            "               raised  touched  went  \n",
            "Test Sentence       1        1     1  \n",
            "Definition          0        0     0  \n",
            "[[1. 0.]\n",
            " [0. 1.]]\n",
            "Synset('hedge.v.01') avoid or try to avoid fulfilling, answering, or performing (duties, questions, or issues)\n",
            "               answering  avoid  ball  bat  cricket  duck  duties  face  \\\n",
            "Test Sentence          0      0     1    1        1     1       0     1   \n",
            "Definition             1      2     0    0        0     0       1     0   \n",
            "\n",
            "               fulfilling  issues  moment  performing  pitch  questions  \\\n",
            "Test Sentence           0       0       1           0      1          0   \n",
            "Definition              1       1       0           1      0          1   \n",
            "\n",
            "               raised  touched  try  went  \n",
            "Test Sentence       1        1    0     1  \n",
            "Definition          0        0    1     0  \n",
            "[[1. 0.]\n",
            " [0. 1.]]\n"
          ]
        }
      ]
    },
    {
      "cell_type": "markdown",
      "source": [
        "# Solve your exercises below this."
      ],
      "metadata": {
        "id": "NZaJp05vDklK"
      }
    },
    {
      "cell_type": "markdown",
      "source": [
        "### Q.1. [*03 Marks*] Check the different senses of the following words.\n",
        "\n",
        "**drab, lead,  hook,  bold, clean**\n"
      ],
      "metadata": {
        "id": "dysT178zDqwr"
      }
    },
    {
      "cell_type": "code",
      "source": [
        "#Solution to Question 1\n",
        "for ss in wn.synsets('drab'):\n",
        "  print(ss,ss.definition(),\"\\n\\n\")\n",
        "for ss in wn.synsets('lead'):\n",
        "  print(ss,ss.definition(),\"\\n\\n\")\n",
        "for ss in wn.synsets('hook'):\n",
        "  print(ss,ss.definition(),\"\\n\\n\")\n",
        "for ss in wn.synsets('bold'):\n",
        "  print(ss,ss.definition(),\"\\n\\n\")\n",
        "for ss in wn.synsets('clean'):\n",
        "  print(ss,ss.definition(),\"\\n\\n\")"
      ],
      "metadata": {
        "id": "8WSVh56xDHZF",
        "colab": {
          "base_uri": "https://localhost:8080/"
        },
        "outputId": "58d7e0b1-2688-4036-b66f-22ca41ae91b3"
      },
      "execution_count": 10,
      "outputs": [
        {
          "output_type": "stream",
          "name": "stdout",
          "text": [
            "Synset('olive_drab.n.01') a dull greyish to yellowish or light olive brown \n",
            "\n",
            "\n",
            "Synset('drab.s.01') lacking in liveliness or charm or surprise \n",
            "\n",
            "\n",
            "Synset('drab.s.02') lacking brightness or color; dull \n",
            "\n",
            "\n",
            "Synset('olive-drab.s.01') of a light brownish green color \n",
            "\n",
            "\n",
            "Synset('blue.s.08') causing dejection \n",
            "\n",
            "\n",
            "Synset('lead.n.01') an advantage held by a competitor in a race \n",
            "\n",
            "\n",
            "Synset('lead.n.02') a soft heavy toxic malleable metallic element; bluish white when freshly cut but tarnishes readily to dull grey \n",
            "\n",
            "\n",
            "Synset('lead.n.03') evidence pointing to a possible solution \n",
            "\n",
            "\n",
            "Synset('lead.n.04') a position of leadership (especially in the phrase `take the lead') \n",
            "\n",
            "\n",
            "Synset('lead.n.05') the angle between the direction a gun is aimed and the position of a moving target (correcting for the flight time of the missile) \n",
            "\n",
            "\n",
            "Synset('lead.n.06') the introductory section of a story \n",
            "\n",
            "\n",
            "Synset('lead.n.07') (sports) the score by which a team or individual is winning \n",
            "\n",
            "\n",
            "Synset('star.n.04') an actor who plays a principal role \n",
            "\n",
            "\n",
            "Synset('lead.n.09') (baseball) the position taken by a base runner preparing to advance to the next base \n",
            "\n",
            "\n",
            "Synset('tip.n.03') an indication of potential opportunity \n",
            "\n",
            "\n",
            "Synset('lead.n.11') a news story of major importance \n",
            "\n",
            "\n",
            "Synset('spark_advance.n.01') the timing of ignition relative to the position of the piston in an internal-combustion engine \n",
            "\n",
            "\n",
            "Synset('leash.n.01') restraint consisting of a rope (or light chain) used to restrain an animal \n",
            "\n",
            "\n",
            "Synset('lead.n.14') thin strip of metal used to separate lines of type in printing \n",
            "\n",
            "\n",
            "Synset('lead.n.15') mixture of graphite with clay in different degrees of hardness; the marking substance in a pencil \n",
            "\n",
            "\n",
            "Synset('jumper_cable.n.01') a jumper that consists of a short piece of wire \n",
            "\n",
            "\n",
            "Synset('lead.n.17') the playing of a card to start a trick in bridge \n",
            "\n",
            "\n",
            "Synset('lead.v.01') take somebody somewhere \n",
            "\n",
            "\n",
            "Synset('leave.v.07') have as a result or residue \n",
            "\n",
            "\n",
            "Synset('lead.v.03') tend to or result in \n",
            "\n",
            "\n",
            "Synset('lead.v.04') travel in front of; go in advance of others \n",
            "\n",
            "\n",
            "Synset('lead.v.05') cause to undertake a certain action \n",
            "\n",
            "\n",
            "Synset('run.v.03') stretch out over a distance, space, time, or scope; run or extend between two points or beyond a certain point \n",
            "\n",
            "\n",
            "Synset('head.v.02') be in charge of \n",
            "\n",
            "\n",
            "Synset('lead.v.08') be ahead of others; be the first \n",
            "\n",
            "\n",
            "Synset('contribute.v.03') be conducive to \n",
            "\n",
            "\n",
            "Synset('conduct.v.02') lead, as in the performance of a composition \n",
            "\n",
            "\n",
            "Synset('go.v.25') lead, extend, or afford access \n",
            "\n",
            "\n",
            "Synset('precede.v.04') move ahead (of others) in time or space \n",
            "\n",
            "\n",
            "Synset('run.v.23') cause something to pass or lead somewhere \n",
            "\n",
            "\n",
            "Synset('moderate.v.01') preside over \n",
            "\n",
            "\n",
            "Synset('hook.n.01') a catch for locking a door \n",
            "\n",
            "\n",
            "Synset('hook.n.02') a sharp curve or crook; a shape resembling a hook \n",
            "\n",
            "\n",
            "Synset('bait.n.01') anything that serves as an enticement \n",
            "\n",
            "\n",
            "Synset('hook.n.04') a mechanical device that is curved or bent to suspend or hold or pull something \n",
            "\n",
            "\n",
            "Synset('hook.n.05') a curved or bent implement for suspending or pulling something \n",
            "\n",
            "\n",
            "Synset('hook.n.06') a golf shot that curves to the left for a right-handed golfer \n",
            "\n",
            "\n",
            "Synset('hook.n.07') a short swinging punch delivered from the side with the elbow bent \n",
            "\n",
            "\n",
            "Synset('hook_shot.n.01') a basketball shot made over the head with the hand that is farther from the basket \n",
            "\n",
            "\n",
            "Synset('hook.v.01') fasten with a hook \n",
            "\n",
            "\n",
            "Synset('overcharge.v.01') rip off; ask an unreasonable price \n",
            "\n",
            "\n",
            "Synset('crochet.v.02') make a piece of needlework by interlocking and looping thread with a hooked needle \n",
            "\n",
            "\n",
            "Synset('hook.v.04') hit a ball and put a spin on it so that it travels to the left \n",
            "\n",
            "\n",
            "Synset('hook.v.05') take by theft \n",
            "\n",
            "\n",
            "Synset('pilfer.v.01') make off with belongings of others \n",
            "\n",
            "\n",
            "Synset('hook.v.07') hit with a hook \n",
            "\n",
            "\n",
            "Synset('hook.v.08') catch with a hook \n",
            "\n",
            "\n",
            "Synset('addict.v.01') to cause (someone or oneself) to become dependent (on something, especially a narcotic drug) \n",
            "\n",
            "\n",
            "Synset('hook.v.10') secure with the foot \n",
            "\n",
            "\n",
            "Synset('hook.v.11') entice and trap \n",
            "\n",
            "\n",
            "Synset('hook.v.12') approach with an offer of sexual favors \n",
            "\n",
            "\n",
            "Synset('boldface.n.01') a typeface with thick heavy lines \n",
            "\n",
            "\n",
            "Synset('bold.a.01') fearless and daring \n",
            "\n",
            "\n",
            "Synset('bold.s.02') clear and distinct \n",
            "\n",
            "\n",
            "Synset('bluff.s.01') very steep; having a prominent and almost vertical front \n",
            "\n",
            "\n",
            "Synset('clean_and_jerk.n.01') a weightlift in which the barbell is lifted to shoulder height and then jerked overhead \n",
            "\n",
            "\n",
            "Synset('clean.v.01') make clean by removing dirt, filth, or unwanted substances from \n",
            "\n",
            "\n",
            "Synset('clean.v.02') remove unwanted substances from, such as feathers or pits \n",
            "\n",
            "\n",
            "Synset('houseclean.v.01') clean and tidy up the house \n",
            "\n",
            "\n",
            "Synset('cleanse.v.01') clean one's body or parts thereof, as by washing \n",
            "\n",
            "\n",
            "Synset('clean.v.05') be cleanable \n",
            "\n",
            "\n",
            "Synset('clean.v.06') deprive wholly of money in a gambling game, robbery, etc. \n",
            "\n",
            "\n",
            "Synset('clean.v.07') remove all contents or possession from, or empty completely \n",
            "\n",
            "\n",
            "Synset('clean.v.08') remove while making clean \n",
            "\n",
            "\n",
            "Synset('scavenge.v.04') remove unwanted substances from \n",
            "\n",
            "\n",
            "Synset('clean.v.10') remove shells or husks from \n",
            "\n",
            "\n",
            "Synset('clean.a.01') free from dirt or impurities; or having clean habits \n",
            "\n",
            "\n",
            "Synset('clean.s.02') free of restrictions or qualifications \n",
            "\n",
            "\n",
            "Synset('clean.s.03') (of sound or color) free from anything that dulls or dims \n",
            "\n",
            "\n",
            "Synset('clean.s.04') free from impurities \n",
            "\n",
            "\n",
            "Synset('clean.s.05') (of a record) having no marks of discredit or offense \n",
            "\n",
            "\n",
            "Synset('clean.a.06') ritually clean or pure \n",
            "\n",
            "\n",
            "Synset('clean.a.07') not spreading pollution or contamination; especially radioactive contamination \n",
            "\n",
            "\n",
            "Synset('clean.a.08') (of behavior or especially language) free from objectionable elements; fit for all observers \n",
            "\n",
            "\n",
            "Synset('uninfected.s.01') free from sepsis or infection \n",
            "\n",
            "\n",
            "Synset('clean.s.10') morally pure \n",
            "\n",
            "\n",
            "Synset('clean.s.11') (of a manuscript) having few alterations or corrections \n",
            "\n",
            "\n",
            "Synset('blank.s.01') (of a surface) not written or printed on \n",
            "\n",
            "\n",
            "Synset('clean.s.13') exhibiting or calling for sportsmanship or fair play \n",
            "\n",
            "\n",
            "Synset('clean.s.14') without difficulties or problems \n",
            "\n",
            "\n",
            "Synset('clean.s.15') thorough and without qualification \n",
            "\n",
            "\n",
            "Synset('clean.s.16') not carrying concealed weapons \n",
            "\n",
            "\n",
            "Synset('clean.s.17') free from clumsiness; precisely or deftly executed \n",
            "\n",
            "\n",
            "Synset('clean.s.18') free of drugs \n",
            "\n",
            "\n",
            "Synset('clean.r.01') completely; used as intensifiers \n",
            "\n",
            "\n",
            "Synset('fairly.r.03') in conformity with the rules or laws and without fraud or cheating \n",
            "\n",
            "\n"
          ]
        }
      ]
    },
    {
      "cell_type": "markdown",
      "source": [
        "### [*03 Marks*] Q. 2. Check the sense of the word **face** in the given sentence, using the in-built lesk algorithm.\n",
        "\n",
        "\n",
        "**Face the sun and you can't see your shadow.**"
      ],
      "metadata": {
        "id": "JueNK_QYDzaA"
      }
    },
    {
      "cell_type": "code",
      "source": [
        "#Solution to Question 2\n",
        "message = \"Face the sun and you can't see your shadow.\"\n",
        "split_message = message.split()\n",
        "print(lesk(split_message,'burn'))"
      ],
      "metadata": {
        "id": "uz8He5iU_TuV",
        "colab": {
          "base_uri": "https://localhost:8080/"
        },
        "outputId": "773de402-fd31-4e37-9af1-f8be61cd1070"
      },
      "execution_count": 11,
      "outputs": [
        {
          "output_type": "stream",
          "name": "stdout",
          "text": [
            "Synset('tan.n.01')\n"
          ]
        }
      ]
    },
    {
      "cell_type": "markdown",
      "source": [
        "### Q. 3. [*04 Marks*] Use cosine distance technique to check the sense of the word **face**, in the given sentence."
      ],
      "metadata": {
        "id": "DLAdL-TkEj-n"
      }
    },
    {
      "cell_type": "code",
      "source": [
        "#Solution to Question 3\n",
        "vectorizer = TfidfVectorizer(stop_words='english')\n",
        "doc1 = sent\n",
        "for ss in wn.synsets('face'):\n",
        "  doc2 = ss.definition()\n",
        "  print(ss, doc2)\n",
        "  documents = [doc1,doc2]\n",
        "  sparse_matrix = vectorizer.fit_transform(documents)\n",
        "  doc_term_matrix = sparse_matrix.todense()\n",
        "  df = pd.DataFrame(doc_term_matrix,\n",
        "  columns=vectorizer.get_feature_names_out(),\n",
        "  index=['Test Sentence','Definition'])\n",
        "\n",
        "print(df)\n",
        "print(cosine_similarity(df, df))"
      ],
      "metadata": {
        "id": "BVnwwmm0Ei3h",
        "colab": {
          "base_uri": "https://localhost:8080/"
        },
        "outputId": "cc8951f7-02dc-4572-d3e1-7af6226e468c"
      },
      "execution_count": 12,
      "outputs": [
        {
          "output_type": "stream",
          "name": "stdout",
          "text": [
            "Synset('face.n.01') the front of the human head from the forehead to the chin and ear to ear\n",
            "Synset('expression.n.01') the feelings expressed on a person's face\n",
            "Synset('face.n.03') the general outward appearance of something\n",
            "Synset('face.n.04') the striking or working surface of an implement\n",
            "Synset('face.n.05') a part of a person that is used to refer to a person\n",
            "Synset('side.n.04') a surface forming part of the outside of an object\n",
            "Synset('face.n.07') the part of an animal corresponding to the human face\n",
            "Synset('face.n.08') the side upon which the use of a thing depends (usually the most prominent surface of an object)\n",
            "Synset('grimace.n.01') a contorted facial expression\n",
            "Synset('font.n.01') a specific size and style of type within a type family\n",
            "Synset('face.n.11') status in the eyes of others\n",
            "Synset('boldness.n.02') impudent aggressiveness\n",
            "Synset('face.n.13') a vertical surface of a building or cliff\n",
            "Synset('confront.v.02') deal with (something unpleasant) head on\n",
            "Synset('confront.v.01') oppose, as in hostility or a competition\n",
            "Synset('front.v.01') be oriented in a certain direction, often with respect to another reference point; be opposite to\n",
            "Synset('face.v.04') be opposite\n",
            "Synset('face.v.05') turn so as to face; turn the face in a certain direction\n",
            "Synset('confront.v.03') present somebody with something, usually to accuse or criticize\n",
            "Synset('face.v.07') turn so as to expose the face\n",
            "Synset('face.v.08') line the edge (of a garment) with a different material\n",
            "Synset('face.v.09') cover the front or surface of\n",
            "                   ball       bat     cover   cricket      duck      face  \\\n",
            "Test Sentence  0.316228  0.316228  0.000000  0.316228  0.316228  0.316228   \n",
            "Definition     0.000000  0.000000  0.707107  0.000000  0.000000  0.000000   \n",
            "\n",
            "                 moment     pitch    raised   surface   touched      went  \n",
            "Test Sentence  0.316228  0.316228  0.316228  0.000000  0.316228  0.316228  \n",
            "Definition     0.000000  0.000000  0.000000  0.707107  0.000000  0.000000  \n",
            "[[1. 0.]\n",
            " [0. 1.]]\n"
          ]
        }
      ]
    }
  ]
}