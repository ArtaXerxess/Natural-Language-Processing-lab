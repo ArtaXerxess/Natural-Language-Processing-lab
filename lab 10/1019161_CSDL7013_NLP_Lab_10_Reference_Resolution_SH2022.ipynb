{
  "nbformat": 4,
  "nbformat_minor": 0,
  "metadata": {
    "colab": {
      "provenance": []
    },
    "kernelspec": {
      "name": "python3",
      "display_name": "Python 3"
    },
    "language_info": {
      "name": "python"
    }
  },
  "cells": [
    {
      "cell_type": "markdown",
      "source": [
        "# CSDL7013 Natural Language Processing Lab 10\n",
        "\n",
        "* NOTE: Prepend your Roll Number to the name of this file\n",
        "\n",
        "* YET ANOTHER NOTE: Take print out of the relevant code cells only."
      ],
      "metadata": {
        "id": "vKeGVu2k8Hmt"
      }
    },
    {
      "cell_type": "markdown",
      "source": [
        "## Reference Resolution Lab\n",
        "\n",
        "1. **Title:**  Reference Resolution\n",
        "\n",
        "2. **Objective/Aim:** To  illustrate Reference Resolution through Pronoun Interpretation\n",
        "\n",
        "3. **Due Date:** Friday October 07, 2022 \n",
        "\n",
        "\n",
        "\n",
        "\n"
      ],
      "metadata": {
        "id": "5xL99s7p8OK4"
      }
    },
    {
      "cell_type": "markdown",
      "source": [
        "### Name : Harshvardhan Singh\n",
        "\n",
        "### Roll Number : 1019161"
      ],
      "metadata": {
        "id": "u4CzHC3T82GQ"
      }
    },
    {
      "cell_type": "markdown",
      "source": [
        "# Install the required packages and libraries"
      ],
      "metadata": {
        "id": "PH-xpYahuUoK"
      }
    },
    {
      "cell_type": "markdown",
      "source": [
        "# Activate the model"
      ],
      "metadata": {
        "id": "B-srScB5udPe"
      }
    },
    {
      "cell_type": "code",
      "source": [
        "import spacy\n",
        "import neuralcoref\n",
        "\n",
        "nlp = spacy.load('en')\n",
        "neuralcoref.add_to_pipe(nlp)\n"
      ],
      "metadata": {
        "colab": {
          "base_uri": "https://localhost:8080/"
        },
        "id": "eV8KytHNlgv5",
        "outputId": "eba34615-e1fe-4297-d410-9d28258268b9"
      },
      "execution_count": 5,
      "outputs": [
        {
          "output_type": "stream",
          "name": "stderr",
          "text": [
            "100%|██████████| 40155833/40155833 [00:01<00:00, 27331964.72B/s]\n"
          ]
        },
        {
          "output_type": "execute_result",
          "data": {
            "text/plain": [
              "<spacy.lang.en.English at 0x7fcac1bed790>"
            ]
          },
          "metadata": {},
          "execution_count": 5
        }
      ]
    },
    {
      "cell_type": "markdown",
      "source": [
        "# Use the model"
      ],
      "metadata": {
        "id": "L0D3Rkb3uhBT"
      }
    },
    {
      "cell_type": "code",
      "source": [
        "doc1 = nlp('My brother has a car. He loves driving it.')\n",
        "print(doc1._.coref_clusters)\n",
        "\n"
      ],
      "metadata": {
        "id": "wbmCpWDtlnc5",
        "colab": {
          "base_uri": "https://localhost:8080/"
        },
        "outputId": "3e038233-2b46-4156-8778-83cbd3551ebf"
      },
      "execution_count": 6,
      "outputs": [
        {
          "output_type": "stream",
          "name": "stdout",
          "text": [
            "[My brother: [My brother, He], a car: [a car, it]]\n"
          ]
        }
      ]
    },
    {
      "cell_type": "code",
      "source": [
        "doc2 = nlp('Anna lives in Delhi. She is quite happy in that city.')\n",
        "for ent in doc2.ents:\n",
        "    print(ent._.coref_cluster)"
      ],
      "metadata": {
        "id": "tbdCQnq8lpnr",
        "colab": {
          "base_uri": "https://localhost:8080/"
        },
        "outputId": "2564dcfb-cfa3-4712-c13f-b9e851f36b00"
      },
      "execution_count": 7,
      "outputs": [
        {
          "output_type": "stream",
          "name": "stdout",
          "text": [
            "Anna: [Anna, She]\n",
            "Delhi: [Delhi, that city]\n"
          ]
        }
      ]
    },
    {
      "cell_type": "markdown",
      "source": [
        "# Solve your exercises below this."
      ],
      "metadata": {
        "id": "4ElO2E3_ukeh"
      }
    },
    {
      "cell_type": "code",
      "source": [
        "## Your solution\n",
        "doc3 = nlp(\"John likes chips. He hates sharing it.\")\n",
        "for ent in doc3.ents:\n",
        "  print(ent._.coref_cluster)\n",
        "  print(doc3._.coref_clusters)"
      ],
      "metadata": {
        "id": "MAyPWNIDvCu1",
        "colab": {
          "base_uri": "https://localhost:8080/"
        },
        "outputId": "35a809a6-3324-4601-eabc-292b93460b42"
      },
      "execution_count": 12,
      "outputs": [
        {
          "output_type": "stream",
          "name": "stdout",
          "text": [
            "John: [John, He]\n",
            "[John: [John, He]]\n"
          ]
        }
      ]
    },
    {
      "cell_type": "code",
      "source": [
        "doc4 = nlp(\"Jack scolded Jill. She dropped the bucket.\")\n",
        "for ent in doc4.ents:\n",
        "  print(ent._.coref_cluster)\n",
        "  print(doc4._.coref_clusters)"
      ],
      "metadata": {
        "colab": {
          "base_uri": "https://localhost:8080/"
        },
        "id": "TKyUX9ePKSi-",
        "outputId": "39a4711a-cded-4ad7-d6f6-a34f1e930d8a"
      },
      "execution_count": 13,
      "outputs": [
        {
          "output_type": "stream",
          "name": "stdout",
          "text": [
            "None\n",
            "[Jill: [Jill, She]]\n",
            "Jill: [Jill, She]\n",
            "[Jill: [Jill, She]]\n"
          ]
        }
      ]
    },
    {
      "cell_type": "code",
      "source": [
        "doc5 = nlp(\"Jill loves Jack. He is her twin brother.\")\n",
        "for ent in doc5.ents:\n",
        "  print(ent._.coref_cluster)\n",
        "  print(doc5._.coref_clusters)"
      ],
      "metadata": {
        "colab": {
          "base_uri": "https://localhost:8080/"
        },
        "id": "pmwauGo1KXsH",
        "outputId": "da4cbb23-bec9-49ab-c46f-073bc4de4a73"
      },
      "execution_count": 14,
      "outputs": [
        {
          "output_type": "stream",
          "name": "stdout",
          "text": [
            "Jack: [Jack, He]\n",
            "[Jack: [Jack, He]]\n"
          ]
        }
      ]
    },
    {
      "cell_type": "code",
      "source": [
        "doc6 = nlp(\"Harshvardhan likes the show Thomas and friends. He remembers every single episode\")\n",
        "for ent in doc6.ents:\n",
        "  print(ent._.coref_cluster)\n",
        "  print(doc6._.coref_clusters)"
      ],
      "metadata": {
        "colab": {
          "base_uri": "https://localhost:8080/"
        },
        "id": "i0RN0xBiKZ4z",
        "outputId": "00d2e9f9-b669-4d57-ccf2-09d633d5b0bb"
      },
      "execution_count": 19,
      "outputs": [
        {
          "output_type": "stream",
          "name": "stdout",
          "text": [
            "None\n",
            "[Harshvardhan: [Harshvardhan, He]]\n"
          ]
        }
      ]
    },
    {
      "cell_type": "code",
      "source": [
        "doc7 = nlp(\"Ronaldo plays for united. He is their best player.\")\n",
        "for ent in doc7.ents:\n",
        "  print(ent._.coref_cluster)\n",
        "  print(doc7._.coref_clusters)"
      ],
      "metadata": {
        "colab": {
          "base_uri": "https://localhost:8080/"
        },
        "id": "v8r0w2MRKiH-",
        "outputId": "f37c3f49-8252-49fa-d642-f0d2e20b497e"
      },
      "execution_count": 18,
      "outputs": [
        {
          "output_type": "stream",
          "name": "stdout",
          "text": [
            "Ronaldo: [Ronaldo, He]\n",
            "[Ronaldo: [Ronaldo, He], Ronaldo plays for united: [Ronaldo plays for united, their]]\n"
          ]
        }
      ]
    }
  ]
}