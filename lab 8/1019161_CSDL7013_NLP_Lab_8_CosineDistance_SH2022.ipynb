{
  "nbformat": 4,
  "nbformat_minor": 0,
  "metadata": {
    "colab": {
      "provenance": [],
      "collapsed_sections": []
    },
    "kernelspec": {
      "name": "python3",
      "display_name": "Python 3"
    },
    "language_info": {
      "name": "python"
    }
  },
  "cells": [
    {
      "cell_type": "markdown",
      "source": [
        "# CSDL7013 Natural Language Processing Lab 8\n",
        "\n",
        "* NOTE: Prepend your Roll Number to the name of this file\n",
        "\n",
        "* YET ANOTHER NOTE: Take print out of the relevant code cells only."
      ],
      "metadata": {
        "id": "vKeGVu2k8Hmt"
      }
    },
    {
      "cell_type": "markdown",
      "source": [
        "## Cosine Distance Lab\n",
        "\n",
        "1. **Title:**  Cosine Distance\n",
        "\n",
        "2. **Objective/Aim:** To  illustrate Cosine Distance between Documents\n",
        "\n",
        "3. **Due Date:** Friday September 30, 2022\n",
        "\n",
        "\n",
        "\n",
        "\n"
      ],
      "metadata": {
        "id": "5xL99s7p8OK4"
      }
    },
    {
      "cell_type": "markdown",
      "source": [
        "### Name : Harshvardhan Singh\n",
        "\n",
        "### Roll Number : 1019161"
      ],
      "metadata": {
        "id": "u4CzHC3T82GQ"
      }
    },
    {
      "cell_type": "markdown",
      "source": [
        "# Use the following helper code snippets to solve the exercises of this lab."
      ],
      "metadata": {
        "id": "qMUXNxqeBE9T"
      }
    },
    {
      "cell_type": "markdown",
      "metadata": {
        "id": "cOzh3g4T9dXH"
      },
      "source": [
        "# Load the packages"
      ]
    },
    {
      "cell_type": "code",
      "metadata": {
        "id": "NuP5fqrV9SUR"
      },
      "source": [
        "#Uncomment the following lines\n",
        "\n",
        "from sklearn.feature_extraction.text import CountVectorizer, TfidfVectorizer\n",
        "from sklearn.metrics.pairwise import cosine_similarity\n",
        "import pandas as pd"
      ],
      "execution_count": 1,
      "outputs": []
    },
    {
      "cell_type": "markdown",
      "metadata": {
        "id": "TPeSfV4xCWad"
      },
      "source": [
        "# Q.1. Create a corpus of the following documents.\n",
        "##### The world is full of obvious things which nobody by any chance ever observes.\n",
        "##### I never guess. It is a shocking habit,destructive to the logical faculty.'\n",
        "##### Eliminate all other factors, and the one which remains must be the truth.\n",
        "##### How often have I said to you that when you have eliminated the impossible, whatever remains,however improbable, must be the truth?\n",
        "##### It is an old maxim of mine that when you have excluded the impossible, whatever remains, however improbable, must be the truth.\n",
        "\n"
      ]
    },
    {
      "cell_type": "code",
      "metadata": {
        "id": "KbF3uf3mC3Vc"
      },
      "source": [
        "# Uncomment the following lines\n",
        "\n",
        "doc_sherlock_1 = \"The world is full of obvious things which nobody by any chance ever observes.\"\n",
        "doc_sherlock_2 = \"I never guess. It is a shocking habit, destructive to the logical faculty.\"\n",
        "doc_sherlock_3 = \"Eliminate all other factors, and the one which remains must be the truth.\"\n",
        "doc_sherlock_4 = \"How often have I said to you that when you have eliminated the impossible, whatever remains,however improbable, must be the truth?\"\n",
        "doc_sherlock_5 = \"It is an old maxim of mine that when you have excluded the impossible, whatever remains, however improbable, must be the truth.\"\n",
        "\n",
        "corpus = [doc_sherlock_1, doc_sherlock_2, doc_sherlock_3, doc_sherlock_4, doc_sherlock_5]"
      ],
      "execution_count": 3,
      "outputs": []
    },
    {
      "cell_type": "markdown",
      "metadata": {
        "id": "oHMoRWx5DMxQ"
      },
      "source": [
        "# Q.2. Build a vector of unique terms. [Try bigrams and trigrams also]"
      ]
    },
    {
      "cell_type": "code",
      "metadata": {
        "id": "Avg9cWM5DRoj",
        "colab": {
          "base_uri": "https://localhost:8080/"
        },
        "outputId": "a702070c-01bc-4e68-a860-ca2d385d787f"
      },
      "source": [
        "# Check with each of unigram, bigrams and trigrams\n",
        "\n",
        "terms = CountVectorizer(stop_words='english')  ### By default unigram terms are returned.\n",
        "terms = CountVectorizer(stop_words='english',ngram_range=(2,2))  ### For bigrams.\n",
        "terms = CountVectorizer(stop_words='english',ngram_range=(3,3))  ### For trigrams.\n",
        "vector = terms.fit_transform(corpus)\n",
        "elements = terms.get_feature_names()\n",
        "elements"
      ],
      "execution_count": 4,
      "outputs": [
        {
          "output_type": "stream",
          "name": "stderr",
          "text": [
            "/usr/local/lib/python3.7/dist-packages/sklearn/utils/deprecation.py:87: FutureWarning: Function get_feature_names is deprecated; get_feature_names is deprecated in 1.0 and will be removed in 1.2. Please use get_feature_names_out instead.\n",
            "  warnings.warn(msg, category=FutureWarning)\n"
          ]
        },
        {
          "output_type": "execute_result",
          "data": {
            "text/plain": [
              "['destructive logical faculty',\n",
              " 'eliminate factors remains',\n",
              " 'eliminated impossible remains',\n",
              " 'excluded impossible remains',\n",
              " 'factors remains truth',\n",
              " 'guess shocking habit',\n",
              " 'habit destructive logical',\n",
              " 'impossible remains improbable',\n",
              " 'maxim excluded impossible',\n",
              " 'obvious things chance',\n",
              " 'old maxim excluded',\n",
              " 'remains improbable truth',\n",
              " 'said eliminated impossible',\n",
              " 'shocking habit destructive',\n",
              " 'things chance observes',\n",
              " 'world obvious things']"
            ]
          },
          "metadata": {},
          "execution_count": 4
        }
      ]
    },
    {
      "cell_type": "markdown",
      "metadata": {
        "id": "QsS7TisJDRIU"
      },
      "source": [
        "# Q.3. Display the frequency of these terms."
      ]
    },
    {
      "cell_type": "code",
      "metadata": {
        "id": "T-UzTQ5MDY-E",
        "colab": {
          "base_uri": "https://localhost:8080/",
          "height": 392
        },
        "outputId": "cebb5a12-b40e-40c6-d2d7-6b3af4801d96"
      },
      "source": [
        "# Uncomment the following lines.\n",
        "\n",
        "row_head = ['Sherlock 1','Sherlock 2','Sherlock 3','Sherlock 4','Sherlock 5']\n",
        "term_matrix = vector.todense()\n",
        "df = pd.DataFrame(term_matrix, columns=elements, index=row_head)\n",
        "df"
      ],
      "execution_count": 5,
      "outputs": [
        {
          "output_type": "execute_result",
          "data": {
            "text/plain": [
              "            destructive logical faculty  eliminate factors remains  \\\n",
              "Sherlock 1                            0                          0   \n",
              "Sherlock 2                            1                          0   \n",
              "Sherlock 3                            0                          1   \n",
              "Sherlock 4                            0                          0   \n",
              "Sherlock 5                            0                          0   \n",
              "\n",
              "            eliminated impossible remains  excluded impossible remains  \\\n",
              "Sherlock 1                              0                            0   \n",
              "Sherlock 2                              0                            0   \n",
              "Sherlock 3                              0                            0   \n",
              "Sherlock 4                              1                            0   \n",
              "Sherlock 5                              0                            1   \n",
              "\n",
              "            factors remains truth  guess shocking habit  \\\n",
              "Sherlock 1                      0                     0   \n",
              "Sherlock 2                      0                     1   \n",
              "Sherlock 3                      1                     0   \n",
              "Sherlock 4                      0                     0   \n",
              "Sherlock 5                      0                     0   \n",
              "\n",
              "            habit destructive logical  impossible remains improbable  \\\n",
              "Sherlock 1                          0                              0   \n",
              "Sherlock 2                          1                              0   \n",
              "Sherlock 3                          0                              0   \n",
              "Sherlock 4                          0                              1   \n",
              "Sherlock 5                          0                              1   \n",
              "\n",
              "            maxim excluded impossible  obvious things chance  \\\n",
              "Sherlock 1                          0                      1   \n",
              "Sherlock 2                          0                      0   \n",
              "Sherlock 3                          0                      0   \n",
              "Sherlock 4                          0                      0   \n",
              "Sherlock 5                          1                      0   \n",
              "\n",
              "            old maxim excluded  remains improbable truth  \\\n",
              "Sherlock 1                   0                         0   \n",
              "Sherlock 2                   0                         0   \n",
              "Sherlock 3                   0                         0   \n",
              "Sherlock 4                   0                         1   \n",
              "Sherlock 5                   1                         1   \n",
              "\n",
              "            said eliminated impossible  shocking habit destructive  \\\n",
              "Sherlock 1                           0                           0   \n",
              "Sherlock 2                           0                           1   \n",
              "Sherlock 3                           0                           0   \n",
              "Sherlock 4                           1                           0   \n",
              "Sherlock 5                           0                           0   \n",
              "\n",
              "            things chance observes  world obvious things  \n",
              "Sherlock 1                       1                     1  \n",
              "Sherlock 2                       0                     0  \n",
              "Sherlock 3                       0                     0  \n",
              "Sherlock 4                       0                     0  \n",
              "Sherlock 5                       0                     0  "
            ],
            "text/html": [
              "\n",
              "  <div id=\"df-1e87c88a-6a4d-45ca-bb8b-24398145475c\">\n",
              "    <div class=\"colab-df-container\">\n",
              "      <div>\n",
              "<style scoped>\n",
              "    .dataframe tbody tr th:only-of-type {\n",
              "        vertical-align: middle;\n",
              "    }\n",
              "\n",
              "    .dataframe tbody tr th {\n",
              "        vertical-align: top;\n",
              "    }\n",
              "\n",
              "    .dataframe thead th {\n",
              "        text-align: right;\n",
              "    }\n",
              "</style>\n",
              "<table border=\"1\" class=\"dataframe\">\n",
              "  <thead>\n",
              "    <tr style=\"text-align: right;\">\n",
              "      <th></th>\n",
              "      <th>destructive logical faculty</th>\n",
              "      <th>eliminate factors remains</th>\n",
              "      <th>eliminated impossible remains</th>\n",
              "      <th>excluded impossible remains</th>\n",
              "      <th>factors remains truth</th>\n",
              "      <th>guess shocking habit</th>\n",
              "      <th>habit destructive logical</th>\n",
              "      <th>impossible remains improbable</th>\n",
              "      <th>maxim excluded impossible</th>\n",
              "      <th>obvious things chance</th>\n",
              "      <th>old maxim excluded</th>\n",
              "      <th>remains improbable truth</th>\n",
              "      <th>said eliminated impossible</th>\n",
              "      <th>shocking habit destructive</th>\n",
              "      <th>things chance observes</th>\n",
              "      <th>world obvious things</th>\n",
              "    </tr>\n",
              "  </thead>\n",
              "  <tbody>\n",
              "    <tr>\n",
              "      <th>Sherlock 1</th>\n",
              "      <td>0</td>\n",
              "      <td>0</td>\n",
              "      <td>0</td>\n",
              "      <td>0</td>\n",
              "      <td>0</td>\n",
              "      <td>0</td>\n",
              "      <td>0</td>\n",
              "      <td>0</td>\n",
              "      <td>0</td>\n",
              "      <td>1</td>\n",
              "      <td>0</td>\n",
              "      <td>0</td>\n",
              "      <td>0</td>\n",
              "      <td>0</td>\n",
              "      <td>1</td>\n",
              "      <td>1</td>\n",
              "    </tr>\n",
              "    <tr>\n",
              "      <th>Sherlock 2</th>\n",
              "      <td>1</td>\n",
              "      <td>0</td>\n",
              "      <td>0</td>\n",
              "      <td>0</td>\n",
              "      <td>0</td>\n",
              "      <td>1</td>\n",
              "      <td>1</td>\n",
              "      <td>0</td>\n",
              "      <td>0</td>\n",
              "      <td>0</td>\n",
              "      <td>0</td>\n",
              "      <td>0</td>\n",
              "      <td>0</td>\n",
              "      <td>1</td>\n",
              "      <td>0</td>\n",
              "      <td>0</td>\n",
              "    </tr>\n",
              "    <tr>\n",
              "      <th>Sherlock 3</th>\n",
              "      <td>0</td>\n",
              "      <td>1</td>\n",
              "      <td>0</td>\n",
              "      <td>0</td>\n",
              "      <td>1</td>\n",
              "      <td>0</td>\n",
              "      <td>0</td>\n",
              "      <td>0</td>\n",
              "      <td>0</td>\n",
              "      <td>0</td>\n",
              "      <td>0</td>\n",
              "      <td>0</td>\n",
              "      <td>0</td>\n",
              "      <td>0</td>\n",
              "      <td>0</td>\n",
              "      <td>0</td>\n",
              "    </tr>\n",
              "    <tr>\n",
              "      <th>Sherlock 4</th>\n",
              "      <td>0</td>\n",
              "      <td>0</td>\n",
              "      <td>1</td>\n",
              "      <td>0</td>\n",
              "      <td>0</td>\n",
              "      <td>0</td>\n",
              "      <td>0</td>\n",
              "      <td>1</td>\n",
              "      <td>0</td>\n",
              "      <td>0</td>\n",
              "      <td>0</td>\n",
              "      <td>1</td>\n",
              "      <td>1</td>\n",
              "      <td>0</td>\n",
              "      <td>0</td>\n",
              "      <td>0</td>\n",
              "    </tr>\n",
              "    <tr>\n",
              "      <th>Sherlock 5</th>\n",
              "      <td>0</td>\n",
              "      <td>0</td>\n",
              "      <td>0</td>\n",
              "      <td>1</td>\n",
              "      <td>0</td>\n",
              "      <td>0</td>\n",
              "      <td>0</td>\n",
              "      <td>1</td>\n",
              "      <td>1</td>\n",
              "      <td>0</td>\n",
              "      <td>1</td>\n",
              "      <td>1</td>\n",
              "      <td>0</td>\n",
              "      <td>0</td>\n",
              "      <td>0</td>\n",
              "      <td>0</td>\n",
              "    </tr>\n",
              "  </tbody>\n",
              "</table>\n",
              "</div>\n",
              "      <button class=\"colab-df-convert\" onclick=\"convertToInteractive('df-1e87c88a-6a4d-45ca-bb8b-24398145475c')\"\n",
              "              title=\"Convert this dataframe to an interactive table.\"\n",
              "              style=\"display:none;\">\n",
              "        \n",
              "  <svg xmlns=\"http://www.w3.org/2000/svg\" height=\"24px\"viewBox=\"0 0 24 24\"\n",
              "       width=\"24px\">\n",
              "    <path d=\"M0 0h24v24H0V0z\" fill=\"none\"/>\n",
              "    <path d=\"M18.56 5.44l.94 2.06.94-2.06 2.06-.94-2.06-.94-.94-2.06-.94 2.06-2.06.94zm-11 1L8.5 8.5l.94-2.06 2.06-.94-2.06-.94L8.5 2.5l-.94 2.06-2.06.94zm10 10l.94 2.06.94-2.06 2.06-.94-2.06-.94-.94-2.06-.94 2.06-2.06.94z\"/><path d=\"M17.41 7.96l-1.37-1.37c-.4-.4-.92-.59-1.43-.59-.52 0-1.04.2-1.43.59L10.3 9.45l-7.72 7.72c-.78.78-.78 2.05 0 2.83L4 21.41c.39.39.9.59 1.41.59.51 0 1.02-.2 1.41-.59l7.78-7.78 2.81-2.81c.8-.78.8-2.07 0-2.86zM5.41 20L4 18.59l7.72-7.72 1.47 1.35L5.41 20z\"/>\n",
              "  </svg>\n",
              "      </button>\n",
              "      \n",
              "  <style>\n",
              "    .colab-df-container {\n",
              "      display:flex;\n",
              "      flex-wrap:wrap;\n",
              "      gap: 12px;\n",
              "    }\n",
              "\n",
              "    .colab-df-convert {\n",
              "      background-color: #E8F0FE;\n",
              "      border: none;\n",
              "      border-radius: 50%;\n",
              "      cursor: pointer;\n",
              "      display: none;\n",
              "      fill: #1967D2;\n",
              "      height: 32px;\n",
              "      padding: 0 0 0 0;\n",
              "      width: 32px;\n",
              "    }\n",
              "\n",
              "    .colab-df-convert:hover {\n",
              "      background-color: #E2EBFA;\n",
              "      box-shadow: 0px 1px 2px rgba(60, 64, 67, 0.3), 0px 1px 3px 1px rgba(60, 64, 67, 0.15);\n",
              "      fill: #174EA6;\n",
              "    }\n",
              "\n",
              "    [theme=dark] .colab-df-convert {\n",
              "      background-color: #3B4455;\n",
              "      fill: #D2E3FC;\n",
              "    }\n",
              "\n",
              "    [theme=dark] .colab-df-convert:hover {\n",
              "      background-color: #434B5C;\n",
              "      box-shadow: 0px 1px 3px 1px rgba(0, 0, 0, 0.15);\n",
              "      filter: drop-shadow(0px 1px 2px rgba(0, 0, 0, 0.3));\n",
              "      fill: #FFFFFF;\n",
              "    }\n",
              "  </style>\n",
              "\n",
              "      <script>\n",
              "        const buttonEl =\n",
              "          document.querySelector('#df-1e87c88a-6a4d-45ca-bb8b-24398145475c button.colab-df-convert');\n",
              "        buttonEl.style.display =\n",
              "          google.colab.kernel.accessAllowed ? 'block' : 'none';\n",
              "\n",
              "        async function convertToInteractive(key) {\n",
              "          const element = document.querySelector('#df-1e87c88a-6a4d-45ca-bb8b-24398145475c');\n",
              "          const dataTable =\n",
              "            await google.colab.kernel.invokeFunction('convertToInteractive',\n",
              "                                                     [key], {});\n",
              "          if (!dataTable) return;\n",
              "\n",
              "          const docLinkHtml = 'Like what you see? Visit the ' +\n",
              "            '<a target=\"_blank\" href=https://colab.research.google.com/notebooks/data_table.ipynb>data table notebook</a>'\n",
              "            + ' to learn more about interactive tables.';\n",
              "          element.innerHTML = '';\n",
              "          dataTable['output_type'] = 'display_data';\n",
              "          await google.colab.output.renderOutput(dataTable, element);\n",
              "          const docLink = document.createElement('div');\n",
              "          docLink.innerHTML = docLinkHtml;\n",
              "          element.appendChild(docLink);\n",
              "        }\n",
              "      </script>\n",
              "    </div>\n",
              "  </div>\n",
              "  "
            ]
          },
          "metadata": {},
          "execution_count": 5
        }
      ]
    },
    {
      "cell_type": "markdown",
      "metadata": {
        "id": "BCurPLxODZYy"
      },
      "source": [
        "# Q.4. Display the tf-idf value of these terms."
      ]
    },
    {
      "cell_type": "code",
      "metadata": {
        "id": "FBojm7lSDiZl"
      },
      "source": [
        "# In place of CountVectorizer in solution to question 2 use this...\n",
        "# Againg check with each of unigram, bigrams and trigrams.\n",
        "terms = TfidfVectorizer(stop_words='english')"
      ],
      "execution_count": 6,
      "outputs": []
    },
    {
      "cell_type": "markdown",
      "metadata": {
        "id": "lqhPmwJsDil1"
      },
      "source": [
        "# Q.5. Find the cosine distance between the documents."
      ]
    },
    {
      "cell_type": "code",
      "metadata": {
        "id": "bE7i8ueuDlZ0",
        "colab": {
          "base_uri": "https://localhost:8080/"
        },
        "outputId": "469d4319-e96a-4212-c2cf-7a25a57680ac"
      },
      "source": [
        "#Uncomment the following lines. Repeat the exercise with other sentences. Satisfy yourself.\n",
        "\n",
        "dist_matrix = cosine_similarity(df, df)\n",
        "dist_matrix"
      ],
      "execution_count": 7,
      "outputs": [
        {
          "output_type": "execute_result",
          "data": {
            "text/plain": [
              "array([[1.       , 0.       , 0.       , 0.       , 0.       ],\n",
              "       [0.       , 1.       , 0.       , 0.       , 0.       ],\n",
              "       [0.       , 0.       , 1.       , 0.       , 0.       ],\n",
              "       [0.       , 0.       , 0.       , 1.       , 0.4472136],\n",
              "       [0.       , 0.       , 0.       , 0.4472136, 1.       ]])"
            ]
          },
          "metadata": {},
          "execution_count": 7
        }
      ]
    },
    {
      "cell_type": "markdown",
      "source": [
        "# Exercise\n",
        "# Do the same with the following sentences"
      ],
      "metadata": {
        "id": "h8EMe57zMCQu"
      }
    },
    {
      "cell_type": "code",
      "source": [
        "doc_1 = \"A graph is a non-linear data structure consisting of nodes and edges. The nodes are sometimes also referred to as vertices and the edges are lines or arcs that connect any two nodes in the graph.\"\n",
        "doc_2 = \"A graph can be defined as group of vertices and edges that are used to connect these vertices.\"\n",
        "doc_3 = \"A graph data structure consists of a finite (and possibly mutable) set of vertices (also called nodes or points), together with a set of unordered pairs of these vertices for an undirected graph or a set of ordered pairs for a directed graph.\" \n",
        "doc_4 = \"A tree is one of the data structures that represent hierarchical data.\"\n",
        "doc_5 = \"A tree data structure can be defined recursively as a collection of nodes, where each node is a data structure consisting of a value and a list of references to nodes.\""
      ],
      "metadata": {
        "id": "dXGaI-c2MJ_a"
      },
      "execution_count": 8,
      "outputs": []
    }
  ]
}