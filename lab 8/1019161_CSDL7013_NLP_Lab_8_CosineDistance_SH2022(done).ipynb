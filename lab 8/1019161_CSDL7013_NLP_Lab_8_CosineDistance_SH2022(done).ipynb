{
  "cells": [
    {
      "cell_type": "markdown",
      "metadata": {
        "id": "vKeGVu2k8Hmt"
      },
      "source": [
        "# CSDL7013 Natural Language Processing Lab 8\n",
        "\n",
        "* NOTE: Prepend your Roll Number to the name of this file\n",
        "\n",
        "* YET ANOTHER NOTE: Take print out of the relevant code cells only."
      ]
    },
    {
      "cell_type": "markdown",
      "metadata": {
        "id": "5xL99s7p8OK4"
      },
      "source": [
        "## Cosine Distance Lab\n",
        "\n",
        "1. **Title:**  Cosine Distance\n",
        "\n",
        "2. **Objective/Aim:** To  illustrate Cosine Distance between Documents\n",
        "\n",
        "3. **Due Date:** Friday September 30, 2022\n",
        "\n",
        "\n",
        "\n",
        "\n"
      ]
    },
    {
      "cell_type": "markdown",
      "metadata": {
        "id": "u4CzHC3T82GQ"
      },
      "source": [
        "### Name : Harshvardhan Singh\n",
        "\n",
        "### Roll Number : 1019161"
      ]
    },
    {
      "cell_type": "markdown",
      "metadata": {
        "id": "qMUXNxqeBE9T"
      },
      "source": [
        "# Use the following helper code snippets to solve the exercises of this lab."
      ]
    },
    {
      "cell_type": "markdown",
      "metadata": {
        "id": "cOzh3g4T9dXH"
      },
      "source": [
        "# Load the packages"
      ]
    },
    {
      "cell_type": "code",
      "execution_count": 3,
      "metadata": {
        "id": "NuP5fqrV9SUR"
      },
      "outputs": [],
      "source": [
        "#Uncomment the following lines\n",
        "\n",
        "from sklearn.feature_extraction.text import CountVectorizer, TfidfVectorizer\n",
        "from sklearn.metrics.pairwise import cosine_similarity\n",
        "import pandas as pd"
      ]
    },
    {
      "cell_type": "markdown",
      "metadata": {
        "id": "TPeSfV4xCWad"
      },
      "source": [
        "# Q.1. Create a corpus of the following documents.\n",
        "##### The world is full of obvious things which nobody by any chance ever observes.\n",
        "##### I never guess. It is a shocking habit,destructive to the logical faculty.'\n",
        "##### Eliminate all other factors, and the one which remains must be the truth.\n",
        "##### How often have I said to you that when you have eliminated the impossible, whatever remains,however improbable, must be the truth?\n",
        "##### It is an old maxim of mine that when you have excluded the impossible, whatever remains, however improbable, must be the truth.\n",
        "\n"
      ]
    },
    {
      "cell_type": "code",
      "execution_count": 4,
      "metadata": {
        "id": "KbF3uf3mC3Vc"
      },
      "outputs": [],
      "source": [
        "# Uncomment the following lines\n",
        "\n",
        "doc_sherlock_1 = \"The world is full of obvious things which nobody by any chance ever observes.\"\n",
        "doc_sherlock_2 = \"I never guess. It is a shocking habit, destructive to the logical faculty.\"\n",
        "doc_sherlock_3 = \"Eliminate all other factors, and the one which remains must be the truth.\"\n",
        "doc_sherlock_4 = \"How often have I said to you that when you have eliminated the impossible, whatever remains,however improbable, must be the truth?\"\n",
        "doc_sherlock_5 = \"It is an old maxim of mine that when you have excluded the impossible, whatever remains, however improbable, must be the truth.\"\n",
        "\n",
        "corpus = [doc_sherlock_1, doc_sherlock_2, doc_sherlock_3, doc_sherlock_4, doc_sherlock_5]"
      ]
    },
    {
      "cell_type": "markdown",
      "metadata": {
        "id": "oHMoRWx5DMxQ"
      },
      "source": [
        "# Q.2. Build a vector of unique terms. [Try bigrams and trigrams also]"
      ]
    },
    {
      "cell_type": "code",
      "execution_count": 5,
      "metadata": {
        "colab": {
          "base_uri": "https://localhost:8080/"
        },
        "id": "Avg9cWM5DRoj",
        "outputId": "a702070c-01bc-4e68-a860-ca2d385d787f"
      },
      "outputs": [
        {
          "name": "stderr",
          "output_type": "stream",
          "text": [
            "c:\\Users\\admin\\AppData\\Local\\Programs\\Python\\Python310\\lib\\site-packages\\sklearn\\utils\\deprecation.py:87: FutureWarning: Function get_feature_names is deprecated; get_feature_names is deprecated in 1.0 and will be removed in 1.2. Please use get_feature_names_out instead.\n",
            "  warnings.warn(msg, category=FutureWarning)\n"
          ]
        },
        {
          "data": {
            "text/plain": [
              "['destructive logical faculty',\n",
              " 'eliminate factors remains',\n",
              " 'eliminated impossible remains',\n",
              " 'excluded impossible remains',\n",
              " 'factors remains truth',\n",
              " 'guess shocking habit',\n",
              " 'habit destructive logical',\n",
              " 'impossible remains improbable',\n",
              " 'maxim excluded impossible',\n",
              " 'obvious things chance',\n",
              " 'old maxim excluded',\n",
              " 'remains improbable truth',\n",
              " 'said eliminated impossible',\n",
              " 'shocking habit destructive',\n",
              " 'things chance observes',\n",
              " 'world obvious things']"
            ]
          },
          "execution_count": 5,
          "metadata": {},
          "output_type": "execute_result"
        }
      ],
      "source": [
        "# Check with each of unigram, bigrams and trigrams\n",
        "\n",
        "terms = CountVectorizer(stop_words='english')  ### By default unigram terms are returned.\n",
        "terms = CountVectorizer(stop_words='english',ngram_range=(2,2))  ### For bigrams.\n",
        "terms = CountVectorizer(stop_words='english',ngram_range=(3,3))  ### For trigrams.\n",
        "vector = terms.fit_transform(corpus)\n",
        "elements = terms.get_feature_names()\n",
        "elements"
      ]
    },
    {
      "cell_type": "markdown",
      "metadata": {
        "id": "QsS7TisJDRIU"
      },
      "source": [
        "# Q.3. Display the frequency of these terms."
      ]
    },
    {
      "cell_type": "code",
      "execution_count": 6,
      "metadata": {
        "colab": {
          "base_uri": "https://localhost:8080/",
          "height": 392
        },
        "id": "T-UzTQ5MDY-E",
        "outputId": "cebb5a12-b40e-40c6-d2d7-6b3af4801d96"
      },
      "outputs": [
        {
          "data": {
            "text/html": [
              "<div>\n",
              "<style scoped>\n",
              "    .dataframe tbody tr th:only-of-type {\n",
              "        vertical-align: middle;\n",
              "    }\n",
              "\n",
              "    .dataframe tbody tr th {\n",
              "        vertical-align: top;\n",
              "    }\n",
              "\n",
              "    .dataframe thead th {\n",
              "        text-align: right;\n",
              "    }\n",
              "</style>\n",
              "<table border=\"1\" class=\"dataframe\">\n",
              "  <thead>\n",
              "    <tr style=\"text-align: right;\">\n",
              "      <th></th>\n",
              "      <th>destructive logical faculty</th>\n",
              "      <th>eliminate factors remains</th>\n",
              "      <th>eliminated impossible remains</th>\n",
              "      <th>excluded impossible remains</th>\n",
              "      <th>factors remains truth</th>\n",
              "      <th>guess shocking habit</th>\n",
              "      <th>habit destructive logical</th>\n",
              "      <th>impossible remains improbable</th>\n",
              "      <th>maxim excluded impossible</th>\n",
              "      <th>obvious things chance</th>\n",
              "      <th>old maxim excluded</th>\n",
              "      <th>remains improbable truth</th>\n",
              "      <th>said eliminated impossible</th>\n",
              "      <th>shocking habit destructive</th>\n",
              "      <th>things chance observes</th>\n",
              "      <th>world obvious things</th>\n",
              "    </tr>\n",
              "  </thead>\n",
              "  <tbody>\n",
              "    <tr>\n",
              "      <th>Sherlock 1</th>\n",
              "      <td>0</td>\n",
              "      <td>0</td>\n",
              "      <td>0</td>\n",
              "      <td>0</td>\n",
              "      <td>0</td>\n",
              "      <td>0</td>\n",
              "      <td>0</td>\n",
              "      <td>0</td>\n",
              "      <td>0</td>\n",
              "      <td>1</td>\n",
              "      <td>0</td>\n",
              "      <td>0</td>\n",
              "      <td>0</td>\n",
              "      <td>0</td>\n",
              "      <td>1</td>\n",
              "      <td>1</td>\n",
              "    </tr>\n",
              "    <tr>\n",
              "      <th>Sherlock 2</th>\n",
              "      <td>1</td>\n",
              "      <td>0</td>\n",
              "      <td>0</td>\n",
              "      <td>0</td>\n",
              "      <td>0</td>\n",
              "      <td>1</td>\n",
              "      <td>1</td>\n",
              "      <td>0</td>\n",
              "      <td>0</td>\n",
              "      <td>0</td>\n",
              "      <td>0</td>\n",
              "      <td>0</td>\n",
              "      <td>0</td>\n",
              "      <td>1</td>\n",
              "      <td>0</td>\n",
              "      <td>0</td>\n",
              "    </tr>\n",
              "    <tr>\n",
              "      <th>Sherlock 3</th>\n",
              "      <td>0</td>\n",
              "      <td>1</td>\n",
              "      <td>0</td>\n",
              "      <td>0</td>\n",
              "      <td>1</td>\n",
              "      <td>0</td>\n",
              "      <td>0</td>\n",
              "      <td>0</td>\n",
              "      <td>0</td>\n",
              "      <td>0</td>\n",
              "      <td>0</td>\n",
              "      <td>0</td>\n",
              "      <td>0</td>\n",
              "      <td>0</td>\n",
              "      <td>0</td>\n",
              "      <td>0</td>\n",
              "    </tr>\n",
              "    <tr>\n",
              "      <th>Sherlock 4</th>\n",
              "      <td>0</td>\n",
              "      <td>0</td>\n",
              "      <td>1</td>\n",
              "      <td>0</td>\n",
              "      <td>0</td>\n",
              "      <td>0</td>\n",
              "      <td>0</td>\n",
              "      <td>1</td>\n",
              "      <td>0</td>\n",
              "      <td>0</td>\n",
              "      <td>0</td>\n",
              "      <td>1</td>\n",
              "      <td>1</td>\n",
              "      <td>0</td>\n",
              "      <td>0</td>\n",
              "      <td>0</td>\n",
              "    </tr>\n",
              "    <tr>\n",
              "      <th>Sherlock 5</th>\n",
              "      <td>0</td>\n",
              "      <td>0</td>\n",
              "      <td>0</td>\n",
              "      <td>1</td>\n",
              "      <td>0</td>\n",
              "      <td>0</td>\n",
              "      <td>0</td>\n",
              "      <td>1</td>\n",
              "      <td>1</td>\n",
              "      <td>0</td>\n",
              "      <td>1</td>\n",
              "      <td>1</td>\n",
              "      <td>0</td>\n",
              "      <td>0</td>\n",
              "      <td>0</td>\n",
              "      <td>0</td>\n",
              "    </tr>\n",
              "  </tbody>\n",
              "</table>\n",
              "</div>"
            ],
            "text/plain": [
              "            destructive logical faculty  eliminate factors remains  \\\n",
              "Sherlock 1                            0                          0   \n",
              "Sherlock 2                            1                          0   \n",
              "Sherlock 3                            0                          1   \n",
              "Sherlock 4                            0                          0   \n",
              "Sherlock 5                            0                          0   \n",
              "\n",
              "            eliminated impossible remains  excluded impossible remains  \\\n",
              "Sherlock 1                              0                            0   \n",
              "Sherlock 2                              0                            0   \n",
              "Sherlock 3                              0                            0   \n",
              "Sherlock 4                              1                            0   \n",
              "Sherlock 5                              0                            1   \n",
              "\n",
              "            factors remains truth  guess shocking habit  \\\n",
              "Sherlock 1                      0                     0   \n",
              "Sherlock 2                      0                     1   \n",
              "Sherlock 3                      1                     0   \n",
              "Sherlock 4                      0                     0   \n",
              "Sherlock 5                      0                     0   \n",
              "\n",
              "            habit destructive logical  impossible remains improbable  \\\n",
              "Sherlock 1                          0                              0   \n",
              "Sherlock 2                          1                              0   \n",
              "Sherlock 3                          0                              0   \n",
              "Sherlock 4                          0                              1   \n",
              "Sherlock 5                          0                              1   \n",
              "\n",
              "            maxim excluded impossible  obvious things chance  \\\n",
              "Sherlock 1                          0                      1   \n",
              "Sherlock 2                          0                      0   \n",
              "Sherlock 3                          0                      0   \n",
              "Sherlock 4                          0                      0   \n",
              "Sherlock 5                          1                      0   \n",
              "\n",
              "            old maxim excluded  remains improbable truth  \\\n",
              "Sherlock 1                   0                         0   \n",
              "Sherlock 2                   0                         0   \n",
              "Sherlock 3                   0                         0   \n",
              "Sherlock 4                   0                         1   \n",
              "Sherlock 5                   1                         1   \n",
              "\n",
              "            said eliminated impossible  shocking habit destructive  \\\n",
              "Sherlock 1                           0                           0   \n",
              "Sherlock 2                           0                           1   \n",
              "Sherlock 3                           0                           0   \n",
              "Sherlock 4                           1                           0   \n",
              "Sherlock 5                           0                           0   \n",
              "\n",
              "            things chance observes  world obvious things  \n",
              "Sherlock 1                       1                     1  \n",
              "Sherlock 2                       0                     0  \n",
              "Sherlock 3                       0                     0  \n",
              "Sherlock 4                       0                     0  \n",
              "Sherlock 5                       0                     0  "
            ]
          },
          "execution_count": 6,
          "metadata": {},
          "output_type": "execute_result"
        }
      ],
      "source": [
        "# Uncomment the following lines.\n",
        "\n",
        "row_head = ['Sherlock 1','Sherlock 2','Sherlock 3','Sherlock 4','Sherlock 5']\n",
        "term_matrix = vector.todense()\n",
        "df = pd.DataFrame(term_matrix, columns=elements, index=row_head)\n",
        "df"
      ]
    },
    {
      "cell_type": "markdown",
      "metadata": {
        "id": "BCurPLxODZYy"
      },
      "source": [
        "# Q.4. Display the tf-idf value of these terms."
      ]
    },
    {
      "cell_type": "code",
      "execution_count": 7,
      "metadata": {
        "id": "FBojm7lSDiZl"
      },
      "outputs": [],
      "source": [
        "# In place of CountVectorizer in solution to question 2 use this...\n",
        "# Againg check with each of unigram, bigrams and trigrams.\n",
        "terms = TfidfVectorizer(stop_words='english')"
      ]
    },
    {
      "cell_type": "markdown",
      "metadata": {
        "id": "lqhPmwJsDil1"
      },
      "source": [
        "# Q.5. Find the cosine distance between the documents."
      ]
    },
    {
      "cell_type": "code",
      "execution_count": 8,
      "metadata": {
        "colab": {
          "base_uri": "https://localhost:8080/"
        },
        "id": "bE7i8ueuDlZ0",
        "outputId": "469d4319-e96a-4212-c2cf-7a25a57680ac"
      },
      "outputs": [
        {
          "data": {
            "text/plain": [
              "array([[1.       , 0.       , 0.       , 0.       , 0.       ],\n",
              "       [0.       , 1.       , 0.       , 0.       , 0.       ],\n",
              "       [0.       , 0.       , 1.       , 0.       , 0.       ],\n",
              "       [0.       , 0.       , 0.       , 1.       , 0.4472136],\n",
              "       [0.       , 0.       , 0.       , 0.4472136, 1.       ]])"
            ]
          },
          "execution_count": 8,
          "metadata": {},
          "output_type": "execute_result"
        }
      ],
      "source": [
        "#Uncomment the following lines. Repeat the exercise with other sentences. Satisfy yourself.\n",
        "\n",
        "dist_matrix = cosine_similarity(df, df)\n",
        "dist_matrix"
      ]
    },
    {
      "cell_type": "markdown",
      "metadata": {
        "id": "h8EMe57zMCQu"
      },
      "source": [
        "# Exercise\n",
        "# Do the same with the following sentences"
      ]
    },
    {
      "cell_type": "code",
      "execution_count": 10,
      "metadata": {
        "id": "dXGaI-c2MJ_a"
      },
      "outputs": [
        {
          "name": "stderr",
          "output_type": "stream",
          "text": [
            "c:\\Users\\admin\\AppData\\Local\\Programs\\Python\\Python310\\lib\\site-packages\\sklearn\\utils\\deprecation.py:87: FutureWarning: Function get_feature_names is deprecated; get_feature_names is deprecated in 1.0 and will be removed in 1.2. Please use get_feature_names_out instead.\n",
            "  warnings.warn(msg, category=FutureWarning)\n"
          ]
        },
        {
          "data": {
            "text/plain": [
              "['arcs connect nodes',\n",
              " 'called nodes points',\n",
              " 'collection nodes node',\n",
              " 'connect nodes graph',\n",
              " 'consisting nodes edges',\n",
              " 'consisting value list',\n",
              " 'consists finite possibly',\n",
              " 'data structure consisting',\n",
              " 'data structure consists',\n",
              " 'data structure defined',\n",
              " 'data structures represent',\n",
              " 'defined group vertices',\n",
              " 'defined recursively collection',\n",
              " 'edges lines arcs',\n",
              " 'edges nodes referred',\n",
              " 'edges used connect',\n",
              " 'finite possibly mutable',\n",
              " 'graph data structure',\n",
              " 'graph defined group',\n",
              " 'graph non linear',\n",
              " 'graph set ordered',\n",
              " 'group vertices edges',\n",
              " 'linear data structure',\n",
              " 'lines arcs connect',\n",
              " 'list references nodes',\n",
              " 'mutable set vertices',\n",
              " 'node data structure',\n",
              " 'nodes edges nodes',\n",
              " 'nodes node data',\n",
              " 'nodes points set',\n",
              " 'nodes referred vertices',\n",
              " 'non linear data',\n",
              " 'ordered pairs directed',\n",
              " 'pairs directed graph',\n",
              " 'pairs vertices undirected',\n",
              " 'points set unordered',\n",
              " 'possibly mutable set',\n",
              " 'recursively collection nodes',\n",
              " 'referred vertices edges',\n",
              " 'represent hierarchical data',\n",
              " 'set ordered pairs',\n",
              " 'set unordered pairs',\n",
              " 'set vertices called',\n",
              " 'structure consisting nodes',\n",
              " 'structure consisting value',\n",
              " 'structure consists finite',\n",
              " 'structure defined recursively',\n",
              " 'structures represent hierarchical',\n",
              " 'tree data structure',\n",
              " 'tree data structures',\n",
              " 'undirected graph set',\n",
              " 'unordered pairs vertices',\n",
              " 'used connect vertices',\n",
              " 'value list references',\n",
              " 'vertices called nodes',\n",
              " 'vertices edges lines',\n",
              " 'vertices edges used',\n",
              " 'vertices undirected graph']"
            ]
          },
          "execution_count": 10,
          "metadata": {},
          "output_type": "execute_result"
        }
      ],
      "source": [
        "doc_1 = \"A graph is a non-linear data structure consisting of nodes and edges. The nodes are sometimes also referred to as vertices and the edges are lines or arcs that connect any two nodes in the graph.\"\n",
        "doc_2 = \"A graph can be defined as group of vertices and edges that are used to connect these vertices.\"\n",
        "doc_3 = \"A graph data structure consists of a finite (and possibly mutable) set of vertices (also called nodes or points), together with a set of unordered pairs of these vertices for an undirected graph or a set of ordered pairs for a directed graph.\" \n",
        "doc_4 = \"A tree is one of the data structures that represent hierarchical data.\"\n",
        "doc_5 = \"A tree data structure can be defined recursively as a collection of nodes, where each node is a data structure consisting of a value and a list of references to nodes.\"\n",
        "\n",
        "corpus = [doc_1,doc_2,doc_3,doc_4,doc_5]\n",
        "\n",
        "terms = CountVectorizer(stop_words='english')  ### By default unigram terms are returned.\n",
        "terms = CountVectorizer(stop_words='english',ngram_range=(2,2))  ### For bigrams.\n",
        "terms = CountVectorizer(stop_words='english',ngram_range=(3,3))  ### For trigrams.\n",
        "vector = terms.fit_transform(corpus)\n",
        "elements = terms.get_feature_names()\n",
        "elements"
      ]
    },
    {
      "cell_type": "code",
      "execution_count": 12,
      "metadata": {},
      "outputs": [
        {
          "data": {
            "text/html": [
              "<div>\n",
              "<style scoped>\n",
              "    .dataframe tbody tr th:only-of-type {\n",
              "        vertical-align: middle;\n",
              "    }\n",
              "\n",
              "    .dataframe tbody tr th {\n",
              "        vertical-align: top;\n",
              "    }\n",
              "\n",
              "    .dataframe thead th {\n",
              "        text-align: right;\n",
              "    }\n",
              "</style>\n",
              "<table border=\"1\" class=\"dataframe\">\n",
              "  <thead>\n",
              "    <tr style=\"text-align: right;\">\n",
              "      <th></th>\n",
              "      <th>arcs connect nodes</th>\n",
              "      <th>called nodes points</th>\n",
              "      <th>collection nodes node</th>\n",
              "      <th>connect nodes graph</th>\n",
              "      <th>consisting nodes edges</th>\n",
              "      <th>consisting value list</th>\n",
              "      <th>consists finite possibly</th>\n",
              "      <th>data structure consisting</th>\n",
              "      <th>data structure consists</th>\n",
              "      <th>data structure defined</th>\n",
              "      <th>...</th>\n",
              "      <th>tree data structure</th>\n",
              "      <th>tree data structures</th>\n",
              "      <th>undirected graph set</th>\n",
              "      <th>unordered pairs vertices</th>\n",
              "      <th>used connect vertices</th>\n",
              "      <th>value list references</th>\n",
              "      <th>vertices called nodes</th>\n",
              "      <th>vertices edges lines</th>\n",
              "      <th>vertices edges used</th>\n",
              "      <th>vertices undirected graph</th>\n",
              "    </tr>\n",
              "  </thead>\n",
              "  <tbody>\n",
              "    <tr>\n",
              "      <th>doc_1</th>\n",
              "      <td>1</td>\n",
              "      <td>0</td>\n",
              "      <td>0</td>\n",
              "      <td>1</td>\n",
              "      <td>1</td>\n",
              "      <td>0</td>\n",
              "      <td>0</td>\n",
              "      <td>1</td>\n",
              "      <td>0</td>\n",
              "      <td>0</td>\n",
              "      <td>...</td>\n",
              "      <td>0</td>\n",
              "      <td>0</td>\n",
              "      <td>0</td>\n",
              "      <td>0</td>\n",
              "      <td>0</td>\n",
              "      <td>0</td>\n",
              "      <td>0</td>\n",
              "      <td>1</td>\n",
              "      <td>0</td>\n",
              "      <td>0</td>\n",
              "    </tr>\n",
              "    <tr>\n",
              "      <th>doc_2</th>\n",
              "      <td>0</td>\n",
              "      <td>0</td>\n",
              "      <td>0</td>\n",
              "      <td>0</td>\n",
              "      <td>0</td>\n",
              "      <td>0</td>\n",
              "      <td>0</td>\n",
              "      <td>0</td>\n",
              "      <td>0</td>\n",
              "      <td>0</td>\n",
              "      <td>...</td>\n",
              "      <td>0</td>\n",
              "      <td>0</td>\n",
              "      <td>0</td>\n",
              "      <td>0</td>\n",
              "      <td>1</td>\n",
              "      <td>0</td>\n",
              "      <td>0</td>\n",
              "      <td>0</td>\n",
              "      <td>1</td>\n",
              "      <td>0</td>\n",
              "    </tr>\n",
              "    <tr>\n",
              "      <th>doc_3</th>\n",
              "      <td>0</td>\n",
              "      <td>1</td>\n",
              "      <td>0</td>\n",
              "      <td>0</td>\n",
              "      <td>0</td>\n",
              "      <td>0</td>\n",
              "      <td>1</td>\n",
              "      <td>0</td>\n",
              "      <td>1</td>\n",
              "      <td>0</td>\n",
              "      <td>...</td>\n",
              "      <td>0</td>\n",
              "      <td>0</td>\n",
              "      <td>1</td>\n",
              "      <td>1</td>\n",
              "      <td>0</td>\n",
              "      <td>0</td>\n",
              "      <td>1</td>\n",
              "      <td>0</td>\n",
              "      <td>0</td>\n",
              "      <td>1</td>\n",
              "    </tr>\n",
              "    <tr>\n",
              "      <th>doc_4</th>\n",
              "      <td>0</td>\n",
              "      <td>0</td>\n",
              "      <td>0</td>\n",
              "      <td>0</td>\n",
              "      <td>0</td>\n",
              "      <td>0</td>\n",
              "      <td>0</td>\n",
              "      <td>0</td>\n",
              "      <td>0</td>\n",
              "      <td>0</td>\n",
              "      <td>...</td>\n",
              "      <td>0</td>\n",
              "      <td>1</td>\n",
              "      <td>0</td>\n",
              "      <td>0</td>\n",
              "      <td>0</td>\n",
              "      <td>0</td>\n",
              "      <td>0</td>\n",
              "      <td>0</td>\n",
              "      <td>0</td>\n",
              "      <td>0</td>\n",
              "    </tr>\n",
              "    <tr>\n",
              "      <th>doc_5</th>\n",
              "      <td>0</td>\n",
              "      <td>0</td>\n",
              "      <td>1</td>\n",
              "      <td>0</td>\n",
              "      <td>0</td>\n",
              "      <td>1</td>\n",
              "      <td>0</td>\n",
              "      <td>1</td>\n",
              "      <td>0</td>\n",
              "      <td>1</td>\n",
              "      <td>...</td>\n",
              "      <td>1</td>\n",
              "      <td>0</td>\n",
              "      <td>0</td>\n",
              "      <td>0</td>\n",
              "      <td>0</td>\n",
              "      <td>1</td>\n",
              "      <td>0</td>\n",
              "      <td>0</td>\n",
              "      <td>0</td>\n",
              "      <td>0</td>\n",
              "    </tr>\n",
              "  </tbody>\n",
              "</table>\n",
              "<p>5 rows × 58 columns</p>\n",
              "</div>"
            ],
            "text/plain": [
              "       arcs connect nodes  called nodes points  collection nodes node  \\\n",
              "doc_1                   1                    0                      0   \n",
              "doc_2                   0                    0                      0   \n",
              "doc_3                   0                    1                      0   \n",
              "doc_4                   0                    0                      0   \n",
              "doc_5                   0                    0                      1   \n",
              "\n",
              "       connect nodes graph  consisting nodes edges  consisting value list  \\\n",
              "doc_1                    1                       1                      0   \n",
              "doc_2                    0                       0                      0   \n",
              "doc_3                    0                       0                      0   \n",
              "doc_4                    0                       0                      0   \n",
              "doc_5                    0                       0                      1   \n",
              "\n",
              "       consists finite possibly  data structure consisting  \\\n",
              "doc_1                         0                          1   \n",
              "doc_2                         0                          0   \n",
              "doc_3                         1                          0   \n",
              "doc_4                         0                          0   \n",
              "doc_5                         0                          1   \n",
              "\n",
              "       data structure consists  data structure defined  ...  \\\n",
              "doc_1                        0                       0  ...   \n",
              "doc_2                        0                       0  ...   \n",
              "doc_3                        1                       0  ...   \n",
              "doc_4                        0                       0  ...   \n",
              "doc_5                        0                       1  ...   \n",
              "\n",
              "       tree data structure  tree data structures  undirected graph set  \\\n",
              "doc_1                    0                     0                     0   \n",
              "doc_2                    0                     0                     0   \n",
              "doc_3                    0                     0                     1   \n",
              "doc_4                    0                     1                     0   \n",
              "doc_5                    1                     0                     0   \n",
              "\n",
              "       unordered pairs vertices  used connect vertices  value list references  \\\n",
              "doc_1                         0                      0                      0   \n",
              "doc_2                         0                      1                      0   \n",
              "doc_3                         1                      0                      0   \n",
              "doc_4                         0                      0                      0   \n",
              "doc_5                         0                      0                      1   \n",
              "\n",
              "       vertices called nodes  vertices edges lines  vertices edges used  \\\n",
              "doc_1                      0                     1                    0   \n",
              "doc_2                      0                     0                    1   \n",
              "doc_3                      1                     0                    0   \n",
              "doc_4                      0                     0                    0   \n",
              "doc_5                      0                     0                    0   \n",
              "\n",
              "       vertices undirected graph  \n",
              "doc_1                          0  \n",
              "doc_2                          0  \n",
              "doc_3                          1  \n",
              "doc_4                          0  \n",
              "doc_5                          0  \n",
              "\n",
              "[5 rows x 58 columns]"
            ]
          },
          "execution_count": 12,
          "metadata": {},
          "output_type": "execute_result"
        }
      ],
      "source": [
        "row_head = ['doc_1','doc_2','doc_3','doc_4','doc_5']\n",
        "term_matrix = vector.todense()\n",
        "df = pd.DataFrame(term_matrix, columns=elements, index=row_head)\n",
        "df"
      ]
    },
    {
      "cell_type": "code",
      "execution_count": 13,
      "metadata": {},
      "outputs": [],
      "source": [
        "terms = TfidfVectorizer(stop_words='english')"
      ]
    },
    {
      "cell_type": "code",
      "execution_count": 14,
      "metadata": {},
      "outputs": [
        {
          "data": {
            "text/plain": [
              "array([[1.        , 0.        , 0.        , 0.        , 0.07161149],\n",
              "       [0.        , 1.        , 0.        , 0.        , 0.        ],\n",
              "       [0.        , 0.        , 1.        , 0.        , 0.        ],\n",
              "       [0.        , 0.        , 0.        , 1.        , 0.        ],\n",
              "       [0.07161149, 0.        , 0.        , 0.        , 1.        ]])"
            ]
          },
          "execution_count": 14,
          "metadata": {},
          "output_type": "execute_result"
        }
      ],
      "source": [
        "dist_matrix = cosine_similarity(df, df)\n",
        "dist_matrix"
      ]
    }
  ],
  "metadata": {
    "colab": {
      "collapsed_sections": [],
      "provenance": []
    },
    "kernelspec": {
      "display_name": "Python 3.10.2 64-bit",
      "language": "python",
      "name": "python3"
    },
    "language_info": {
      "codemirror_mode": {
        "name": "ipython",
        "version": 3
      },
      "file_extension": ".py",
      "mimetype": "text/x-python",
      "name": "python",
      "nbconvert_exporter": "python",
      "pygments_lexer": "ipython3",
      "version": "3.10.2"
    },
    "vscode": {
      "interpreter": {
        "hash": "beedbe2faf2f7048d727558d0bc3221e7eba2a0b921cac4d4771b2feb8f74b30"
      }
    }
  },
  "nbformat": 4,
  "nbformat_minor": 0
}
